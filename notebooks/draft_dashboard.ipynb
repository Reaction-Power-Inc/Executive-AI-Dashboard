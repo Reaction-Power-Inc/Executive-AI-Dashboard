{
 "cells": [
  {
   "cell_type": "markdown",
   "metadata": {},
   "source": [
    "# Read Data"
   ]
  },
  {
   "cell_type": "code",
   "execution_count": 1,
   "metadata": {},
   "outputs": [],
   "source": [
    "import warnings\n",
    "warnings.filterwarnings(\"ignore\", category=UserWarning)\n"
   ]
  },
  {
   "cell_type": "code",
   "execution_count": 3,
   "metadata": {},
   "outputs": [
    {
     "ename": "FileNotFoundError",
     "evalue": "[Errno 2] No such file or directory: '..executive_ai_dashboard/data/linkedin.xlsx'",
     "output_type": "error",
     "traceback": [
      "\u001b[0;31m---------------------------------------------------------------------------\u001b[0m",
      "\u001b[0;31mFileNotFoundError\u001b[0m                         Traceback (most recent call last)",
      "Cell \u001b[0;32mIn[3], line 2\u001b[0m\n\u001b[1;32m      1\u001b[0m \u001b[38;5;28;01mimport\u001b[39;00m \u001b[38;5;21;01mpandas\u001b[39;00m \u001b[38;5;28;01mas\u001b[39;00m \u001b[38;5;21;01mpd\u001b[39;00m \n\u001b[0;32m----> 2\u001b[0m fp \u001b[38;5;241m=\u001b[39m \u001b[43mpd\u001b[49m\u001b[38;5;241;43m.\u001b[39;49m\u001b[43mExcelFile\u001b[49m\u001b[43m(\u001b[49m\u001b[38;5;124;43m'\u001b[39;49m\u001b[38;5;124;43m..executive_ai_dashboard/data/linkedin.xlsx\u001b[39;49m\u001b[38;5;124;43m'\u001b[39;49m\u001b[43m)\u001b[49m\n\u001b[1;32m      4\u001b[0m \u001b[38;5;66;03m# Get the list of sheet names\u001b[39;00m\n\u001b[1;32m      5\u001b[0m sheet_names \u001b[38;5;241m=\u001b[39m fp\u001b[38;5;241m.\u001b[39msheet_names\n",
      "File \u001b[0;32m~/miniconda3/envs/poetry/lib/python3.12/site-packages/pandas/io/excel/_base.py:1550\u001b[0m, in \u001b[0;36mExcelFile.__init__\u001b[0;34m(self, path_or_buffer, engine, storage_options, engine_kwargs)\u001b[0m\n\u001b[1;32m   1548\u001b[0m     ext \u001b[38;5;241m=\u001b[39m \u001b[38;5;124m\"\u001b[39m\u001b[38;5;124mxls\u001b[39m\u001b[38;5;124m\"\u001b[39m\n\u001b[1;32m   1549\u001b[0m \u001b[38;5;28;01melse\u001b[39;00m:\n\u001b[0;32m-> 1550\u001b[0m     ext \u001b[38;5;241m=\u001b[39m \u001b[43minspect_excel_format\u001b[49m\u001b[43m(\u001b[49m\n\u001b[1;32m   1551\u001b[0m \u001b[43m        \u001b[49m\u001b[43mcontent_or_path\u001b[49m\u001b[38;5;241;43m=\u001b[39;49m\u001b[43mpath_or_buffer\u001b[49m\u001b[43m,\u001b[49m\u001b[43m \u001b[49m\u001b[43mstorage_options\u001b[49m\u001b[38;5;241;43m=\u001b[39;49m\u001b[43mstorage_options\u001b[49m\n\u001b[1;32m   1552\u001b[0m \u001b[43m    \u001b[49m\u001b[43m)\u001b[49m\n\u001b[1;32m   1553\u001b[0m     \u001b[38;5;28;01mif\u001b[39;00m ext \u001b[38;5;129;01mis\u001b[39;00m \u001b[38;5;28;01mNone\u001b[39;00m:\n\u001b[1;32m   1554\u001b[0m         \u001b[38;5;28;01mraise\u001b[39;00m \u001b[38;5;167;01mValueError\u001b[39;00m(\n\u001b[1;32m   1555\u001b[0m             \u001b[38;5;124m\"\u001b[39m\u001b[38;5;124mExcel file format cannot be determined, you must specify \u001b[39m\u001b[38;5;124m\"\u001b[39m\n\u001b[1;32m   1556\u001b[0m             \u001b[38;5;124m\"\u001b[39m\u001b[38;5;124man engine manually.\u001b[39m\u001b[38;5;124m\"\u001b[39m\n\u001b[1;32m   1557\u001b[0m         )\n",
      "File \u001b[0;32m~/miniconda3/envs/poetry/lib/python3.12/site-packages/pandas/io/excel/_base.py:1402\u001b[0m, in \u001b[0;36minspect_excel_format\u001b[0;34m(content_or_path, storage_options)\u001b[0m\n\u001b[1;32m   1399\u001b[0m \u001b[38;5;28;01mif\u001b[39;00m \u001b[38;5;28misinstance\u001b[39m(content_or_path, \u001b[38;5;28mbytes\u001b[39m):\n\u001b[1;32m   1400\u001b[0m     content_or_path \u001b[38;5;241m=\u001b[39m BytesIO(content_or_path)\n\u001b[0;32m-> 1402\u001b[0m \u001b[38;5;28;01mwith\u001b[39;00m \u001b[43mget_handle\u001b[49m\u001b[43m(\u001b[49m\n\u001b[1;32m   1403\u001b[0m \u001b[43m    \u001b[49m\u001b[43mcontent_or_path\u001b[49m\u001b[43m,\u001b[49m\u001b[43m \u001b[49m\u001b[38;5;124;43m\"\u001b[39;49m\u001b[38;5;124;43mrb\u001b[39;49m\u001b[38;5;124;43m\"\u001b[39;49m\u001b[43m,\u001b[49m\u001b[43m \u001b[49m\u001b[43mstorage_options\u001b[49m\u001b[38;5;241;43m=\u001b[39;49m\u001b[43mstorage_options\u001b[49m\u001b[43m,\u001b[49m\u001b[43m \u001b[49m\u001b[43mis_text\u001b[49m\u001b[38;5;241;43m=\u001b[39;49m\u001b[38;5;28;43;01mFalse\u001b[39;49;00m\n\u001b[1;32m   1404\u001b[0m \u001b[43m\u001b[49m\u001b[43m)\u001b[49m \u001b[38;5;28;01mas\u001b[39;00m handle:\n\u001b[1;32m   1405\u001b[0m     stream \u001b[38;5;241m=\u001b[39m handle\u001b[38;5;241m.\u001b[39mhandle\n\u001b[1;32m   1406\u001b[0m     stream\u001b[38;5;241m.\u001b[39mseek(\u001b[38;5;241m0\u001b[39m)\n",
      "File \u001b[0;32m~/miniconda3/envs/poetry/lib/python3.12/site-packages/pandas/io/common.py:882\u001b[0m, in \u001b[0;36mget_handle\u001b[0;34m(path_or_buf, mode, encoding, compression, memory_map, is_text, errors, storage_options)\u001b[0m\n\u001b[1;32m    873\u001b[0m         handle \u001b[38;5;241m=\u001b[39m \u001b[38;5;28mopen\u001b[39m(\n\u001b[1;32m    874\u001b[0m             handle,\n\u001b[1;32m    875\u001b[0m             ioargs\u001b[38;5;241m.\u001b[39mmode,\n\u001b[0;32m   (...)\u001b[0m\n\u001b[1;32m    878\u001b[0m             newline\u001b[38;5;241m=\u001b[39m\u001b[38;5;124m\"\u001b[39m\u001b[38;5;124m\"\u001b[39m,\n\u001b[1;32m    879\u001b[0m         )\n\u001b[1;32m    880\u001b[0m     \u001b[38;5;28;01melse\u001b[39;00m:\n\u001b[1;32m    881\u001b[0m         \u001b[38;5;66;03m# Binary mode\u001b[39;00m\n\u001b[0;32m--> 882\u001b[0m         handle \u001b[38;5;241m=\u001b[39m \u001b[38;5;28;43mopen\u001b[39;49m\u001b[43m(\u001b[49m\u001b[43mhandle\u001b[49m\u001b[43m,\u001b[49m\u001b[43m \u001b[49m\u001b[43mioargs\u001b[49m\u001b[38;5;241;43m.\u001b[39;49m\u001b[43mmode\u001b[49m\u001b[43m)\u001b[49m\n\u001b[1;32m    883\u001b[0m     handles\u001b[38;5;241m.\u001b[39mappend(handle)\n\u001b[1;32m    885\u001b[0m \u001b[38;5;66;03m# Convert BytesIO or file objects passed with an encoding\u001b[39;00m\n",
      "\u001b[0;31mFileNotFoundError\u001b[0m: [Errno 2] No such file or directory: '..executive_ai_dashboard/data/linkedin.xlsx'"
     ]
    }
   ],
   "source": [
    "import pandas as pd \n",
    "fp = pd.ExcelFile('..executive_ai_dashboard/data/linkedin.xlsx')\n",
    "\n",
    "# Get the list of sheet names\n",
    "sheet_names = fp.sheet_names\n",
    "\n",
    "# Read each sheet into a DataFrame\n",
    "data = {}\n",
    "for sheet_name in sheet_names:\n",
    "    data[sheet_name] = pd.read_excel(fp, sheet_name, engine='openpyxl')"
   ]
  },
  {
   "cell_type": "markdown",
   "metadata": {},
   "source": [
    "# Pre-processing"
   ]
  },
  {
   "cell_type": "code",
   "execution_count": null,
   "metadata": {},
   "outputs": [
    {
     "name": "stdout",
     "output_type": "stream",
     "text": [
      "<class 'pandas.core.frame.DataFrame'>\n",
      "RangeIndex: 365 entries, 0 to 364\n",
      "Data columns (total 3 columns):\n",
      " #   Column       Non-Null Count  Dtype         \n",
      "---  ------       --------------  -----         \n",
      " 0   Date         365 non-null    datetime64[ns]\n",
      " 1   Impressions  365 non-null    int64         \n",
      " 2   Engagements  365 non-null    int64         \n",
      "dtypes: datetime64[ns](1), int64(2)\n",
      "memory usage: 8.7 KB\n"
     ]
    }
   ],
   "source": [
    "engagements = data['ENGAGEMENT']\n",
    "engagements['Date'] = pd.to_datetime(engagements['Date'])\n",
    "engagements.info()"
   ]
  },
  {
   "cell_type": "code",
   "execution_count": null,
   "metadata": {},
   "outputs": [
    {
     "data": {
      "text/html": [
       "<div>\n",
       "<style scoped>\n",
       "    .dataframe tbody tr th:only-of-type {\n",
       "        vertical-align: middle;\n",
       "    }\n",
       "\n",
       "    .dataframe tbody tr th {\n",
       "        vertical-align: top;\n",
       "    }\n",
       "\n",
       "    .dataframe thead th {\n",
       "        text-align: right;\n",
       "    }\n",
       "</style>\n",
       "<table border=\"1\" class=\"dataframe\">\n",
       "  <thead>\n",
       "    <tr style=\"text-align: right;\">\n",
       "      <th></th>\n",
       "      <th>Date</th>\n",
       "      <th>Impressions</th>\n",
       "      <th>Engagements</th>\n",
       "      <th>DayOfWeek</th>\n",
       "      <th>EngagementRate</th>\n",
       "    </tr>\n",
       "  </thead>\n",
       "  <tbody>\n",
       "    <tr>\n",
       "      <th>0</th>\n",
       "      <td>2023-05-02</td>\n",
       "      <td>1890</td>\n",
       "      <td>40</td>\n",
       "      <td>Tuesday</td>\n",
       "      <td>2.12</td>\n",
       "    </tr>\n",
       "    <tr>\n",
       "      <th>1</th>\n",
       "      <td>2023-05-03</td>\n",
       "      <td>1887</td>\n",
       "      <td>46</td>\n",
       "      <td>Wednesday</td>\n",
       "      <td>2.44</td>\n",
       "    </tr>\n",
       "    <tr>\n",
       "      <th>2</th>\n",
       "      <td>2023-05-04</td>\n",
       "      <td>1935</td>\n",
       "      <td>163</td>\n",
       "      <td>Thursday</td>\n",
       "      <td>8.42</td>\n",
       "    </tr>\n",
       "    <tr>\n",
       "      <th>3</th>\n",
       "      <td>2023-05-05</td>\n",
       "      <td>3229</td>\n",
       "      <td>84</td>\n",
       "      <td>Friday</td>\n",
       "      <td>2.60</td>\n",
       "    </tr>\n",
       "    <tr>\n",
       "      <th>4</th>\n",
       "      <td>2023-05-06</td>\n",
       "      <td>1497</td>\n",
       "      <td>59</td>\n",
       "      <td>Saturday</td>\n",
       "      <td>3.94</td>\n",
       "    </tr>\n",
       "  </tbody>\n",
       "</table>\n",
       "</div>"
      ],
      "text/plain": [
       "        Date  Impressions  Engagements  DayOfWeek  EngagementRate\n",
       "0 2023-05-02         1890           40    Tuesday            2.12\n",
       "1 2023-05-03         1887           46  Wednesday            2.44\n",
       "2 2023-05-04         1935          163   Thursday            8.42\n",
       "3 2023-05-05         3229           84     Friday            2.60\n",
       "4 2023-05-06         1497           59   Saturday            3.94"
      ]
     },
     "execution_count": 4,
     "metadata": {},
     "output_type": "execute_result"
    }
   ],
   "source": [
    "engagements['DayOfWeek'] = engagements['Date'].dt.day_name()\n",
    "engagements['EngagementRate'] = (engagements['Engagements'] / engagements['Impressions']) * 100\n",
    "engagements['EngagementRate'] = engagements['EngagementRate'].map(\"{:.2f}\".format)\n",
    "engagements['EngagementRate'] = engagements['EngagementRate'].astype(float)\n",
    "engagements.head()"
   ]
  },
  {
   "cell_type": "code",
   "execution_count": null,
   "metadata": {},
   "outputs": [
    {
     "data": {
      "text/html": [
       "<div>\n",
       "<style scoped>\n",
       "    .dataframe tbody tr th:only-of-type {\n",
       "        vertical-align: middle;\n",
       "    }\n",
       "\n",
       "    .dataframe tbody tr th {\n",
       "        vertical-align: top;\n",
       "    }\n",
       "\n",
       "    .dataframe thead th {\n",
       "        text-align: right;\n",
       "    }\n",
       "</style>\n",
       "<table border=\"1\" class=\"dataframe\">\n",
       "  <thead>\n",
       "    <tr style=\"text-align: right;\">\n",
       "      <th></th>\n",
       "      <th>DayOfWeek</th>\n",
       "      <th>Engagements</th>\n",
       "      <th>Impressions</th>\n",
       "      <th>EngagementRate</th>\n",
       "    </tr>\n",
       "  </thead>\n",
       "  <tbody>\n",
       "    <tr>\n",
       "      <th>0</th>\n",
       "      <td>Monday</td>\n",
       "      <td>3161</td>\n",
       "      <td>95976</td>\n",
       "      <td>3.29</td>\n",
       "    </tr>\n",
       "    <tr>\n",
       "      <th>1</th>\n",
       "      <td>Friday</td>\n",
       "      <td>2109</td>\n",
       "      <td>78376</td>\n",
       "      <td>2.69</td>\n",
       "    </tr>\n",
       "    <tr>\n",
       "      <th>2</th>\n",
       "      <td>Thursday</td>\n",
       "      <td>1804</td>\n",
       "      <td>81530</td>\n",
       "      <td>2.21</td>\n",
       "    </tr>\n",
       "    <tr>\n",
       "      <th>3</th>\n",
       "      <td>Wednesday</td>\n",
       "      <td>1782</td>\n",
       "      <td>83279</td>\n",
       "      <td>2.14</td>\n",
       "    </tr>\n",
       "    <tr>\n",
       "      <th>4</th>\n",
       "      <td>Tuesday</td>\n",
       "      <td>1637</td>\n",
       "      <td>88792</td>\n",
       "      <td>1.84</td>\n",
       "    </tr>\n",
       "    <tr>\n",
       "      <th>5</th>\n",
       "      <td>Sunday</td>\n",
       "      <td>1510</td>\n",
       "      <td>51921</td>\n",
       "      <td>2.91</td>\n",
       "    </tr>\n",
       "    <tr>\n",
       "      <th>6</th>\n",
       "      <td>Saturday</td>\n",
       "      <td>1303</td>\n",
       "      <td>52528</td>\n",
       "      <td>2.48</td>\n",
       "    </tr>\n",
       "  </tbody>\n",
       "</table>\n",
       "</div>"
      ],
      "text/plain": [
       "   DayOfWeek  Engagements  Impressions EngagementRate\n",
       "0     Monday         3161        95976           3.29\n",
       "1     Friday         2109        78376           2.69\n",
       "2   Thursday         1804        81530           2.21\n",
       "3  Wednesday         1782        83279           2.14\n",
       "4    Tuesday         1637        88792           1.84\n",
       "5     Sunday         1510        51921           2.91\n",
       "6   Saturday         1303        52528           2.48"
      ]
     },
     "execution_count": 5,
     "metadata": {},
     "output_type": "execute_result"
    }
   ],
   "source": [
    "engagements_by_day = engagements.groupby('DayOfWeek')[['Engagements','Impressions']].sum().reset_index()\n",
    "engagements_by_day['EngagementRate'] = (engagements_by_day['Engagements'] / engagements_by_day['Impressions']) * 100\n",
    "engagements_by_day['EngagementRate'] = engagements_by_day['EngagementRate'].map(\"{:.2f}\".format)\n",
    "engagements_by_day = engagements_by_day.sort_values(by='Engagements', ascending=False).reset_index(drop=True)\n",
    "engagements_by_day\n"
   ]
  },
  {
   "cell_type": "code",
   "execution_count": null,
   "metadata": {},
   "outputs": [
    {
     "data": {
      "text/html": [
       "<div>\n",
       "<style scoped>\n",
       "    .dataframe tbody tr th:only-of-type {\n",
       "        vertical-align: middle;\n",
       "    }\n",
       "\n",
       "    .dataframe tbody tr th {\n",
       "        vertical-align: top;\n",
       "    }\n",
       "\n",
       "    .dataframe thead th {\n",
       "        text-align: right;\n",
       "    }\n",
       "</style>\n",
       "<table border=\"1\" class=\"dataframe\">\n",
       "  <thead>\n",
       "    <tr style=\"text-align: right;\">\n",
       "      <th></th>\n",
       "      <th>Top Demographics</th>\n",
       "      <th>Value</th>\n",
       "      <th>Percentage</th>\n",
       "    </tr>\n",
       "  </thead>\n",
       "  <tbody>\n",
       "    <tr>\n",
       "      <th>0</th>\n",
       "      <td>Job titles</td>\n",
       "      <td>Application Engineer</td>\n",
       "      <td>0.034703</td>\n",
       "    </tr>\n",
       "    <tr>\n",
       "      <th>1</th>\n",
       "      <td>Job titles</td>\n",
       "      <td>Software Engineer</td>\n",
       "      <td>0.026637</td>\n",
       "    </tr>\n",
       "    <tr>\n",
       "      <th>2</th>\n",
       "      <td>Job titles</td>\n",
       "      <td>Founder</td>\n",
       "      <td>0.022885</td>\n",
       "    </tr>\n",
       "    <tr>\n",
       "      <th>3</th>\n",
       "      <td>Job titles</td>\n",
       "      <td>Chief Executive Officer</td>\n",
       "      <td>0.02176</td>\n",
       "    </tr>\n",
       "    <tr>\n",
       "      <th>4</th>\n",
       "      <td>Job titles</td>\n",
       "      <td>Account Executive</td>\n",
       "      <td>0.017258</td>\n",
       "    </tr>\n",
       "    <tr>\n",
       "      <th>5</th>\n",
       "      <td>Locations</td>\n",
       "      <td>San Francisco Bay Area</td>\n",
       "      <td>0.26768</td>\n",
       "    </tr>\n",
       "    <tr>\n",
       "      <th>6</th>\n",
       "      <td>Locations</td>\n",
       "      <td>Austin, Texas Metropolitan Area</td>\n",
       "      <td>0.063403</td>\n",
       "    </tr>\n",
       "    <tr>\n",
       "      <th>7</th>\n",
       "      <td>Locations</td>\n",
       "      <td>Dallas-Fort Worth Metroplex</td>\n",
       "      <td>0.05815</td>\n",
       "    </tr>\n",
       "    <tr>\n",
       "      <th>8</th>\n",
       "      <td>Locations</td>\n",
       "      <td>Greater Bengaluru Area</td>\n",
       "      <td>0.046708</td>\n",
       "    </tr>\n",
       "    <tr>\n",
       "      <th>9</th>\n",
       "      <td>Locations</td>\n",
       "      <td>New York City Metropolitan Area</td>\n",
       "      <td>0.032639</td>\n",
       "    </tr>\n",
       "    <tr>\n",
       "      <th>10</th>\n",
       "      <td>Industries</td>\n",
       "      <td>Software Development</td>\n",
       "      <td>0.263178</td>\n",
       "    </tr>\n",
       "    <tr>\n",
       "      <th>11</th>\n",
       "      <td>Industries</td>\n",
       "      <td>Semiconductor Manufacturing</td>\n",
       "      <td>0.243106</td>\n",
       "    </tr>\n",
       "    <tr>\n",
       "      <th>12</th>\n",
       "      <td>Industries</td>\n",
       "      <td>IT Services and IT Consulting</td>\n",
       "      <td>0.071844</td>\n",
       "    </tr>\n",
       "    <tr>\n",
       "      <th>13</th>\n",
       "      <td>Industries</td>\n",
       "      <td>Advertising Services</td>\n",
       "      <td>0.031326</td>\n",
       "    </tr>\n",
       "    <tr>\n",
       "      <th>14</th>\n",
       "      <td>Industries</td>\n",
       "      <td>Appliances, Electrical, and Electronics Manufa...</td>\n",
       "      <td>0.027012</td>\n",
       "    </tr>\n",
       "    <tr>\n",
       "      <th>15</th>\n",
       "      <td>Seniority</td>\n",
       "      <td>Senior</td>\n",
       "      <td>0.32658</td>\n",
       "    </tr>\n",
       "    <tr>\n",
       "      <th>16</th>\n",
       "      <td>Seniority</td>\n",
       "      <td>Director</td>\n",
       "      <td>0.166948</td>\n",
       "    </tr>\n",
       "    <tr>\n",
       "      <th>17</th>\n",
       "      <td>Seniority</td>\n",
       "      <td>Entry</td>\n",
       "      <td>0.146877</td>\n",
       "    </tr>\n",
       "    <tr>\n",
       "      <th>18</th>\n",
       "      <td>Seniority</td>\n",
       "      <td>VP</td>\n",
       "      <td>0.07447</td>\n",
       "    </tr>\n",
       "    <tr>\n",
       "      <th>19</th>\n",
       "      <td>Seniority</td>\n",
       "      <td>CXO</td>\n",
       "      <td>0.07447</td>\n",
       "    </tr>\n",
       "    <tr>\n",
       "      <th>20</th>\n",
       "      <td>Company size</td>\n",
       "      <td>10,001+ employees</td>\n",
       "      <td>0.238229</td>\n",
       "    </tr>\n",
       "    <tr>\n",
       "      <th>21</th>\n",
       "      <td>Company size</td>\n",
       "      <td>5001-10,000 employees</td>\n",
       "      <td>0.229225</td>\n",
       "    </tr>\n",
       "    <tr>\n",
       "      <th>22</th>\n",
       "      <td>Company size</td>\n",
       "      <td>11-50 employees</td>\n",
       "      <td>0.086663</td>\n",
       "    </tr>\n",
       "    <tr>\n",
       "      <th>23</th>\n",
       "      <td>Company size</td>\n",
       "      <td>1001-5000 employees</td>\n",
       "      <td>0.07522</td>\n",
       "    </tr>\n",
       "    <tr>\n",
       "      <th>24</th>\n",
       "      <td>Company size</td>\n",
       "      <td>1-10 employees</td>\n",
       "      <td>0.075033</td>\n",
       "    </tr>\n",
       "    <tr>\n",
       "      <th>25</th>\n",
       "      <td>Companies</td>\n",
       "      <td>Cadence Design Systems</td>\n",
       "      <td>0.225849</td>\n",
       "    </tr>\n",
       "    <tr>\n",
       "      <th>26</th>\n",
       "      <td>Companies</td>\n",
       "      <td>Synopsys Inc</td>\n",
       "      <td>0.038642</td>\n",
       "    </tr>\n",
       "    <tr>\n",
       "      <th>27</th>\n",
       "      <td>Companies</td>\n",
       "      <td>Intel Corporation</td>\n",
       "      <td>0.012568</td>\n",
       "    </tr>\n",
       "  </tbody>\n",
       "</table>\n",
       "</div>"
      ],
      "text/plain": [
       "   Top Demographics                                              Value  \\\n",
       "0        Job titles                               Application Engineer   \n",
       "1        Job titles                                  Software Engineer   \n",
       "2        Job titles                                            Founder   \n",
       "3        Job titles                            Chief Executive Officer   \n",
       "4        Job titles                                  Account Executive   \n",
       "5         Locations                             San Francisco Bay Area   \n",
       "6         Locations                    Austin, Texas Metropolitan Area   \n",
       "7         Locations                        Dallas-Fort Worth Metroplex   \n",
       "8         Locations                             Greater Bengaluru Area   \n",
       "9         Locations                    New York City Metropolitan Area   \n",
       "10       Industries                               Software Development   \n",
       "11       Industries                        Semiconductor Manufacturing   \n",
       "12       Industries                      IT Services and IT Consulting   \n",
       "13       Industries                               Advertising Services   \n",
       "14       Industries  Appliances, Electrical, and Electronics Manufa...   \n",
       "15        Seniority                                             Senior   \n",
       "16        Seniority                                           Director   \n",
       "17        Seniority                                              Entry   \n",
       "18        Seniority                                                 VP   \n",
       "19        Seniority                                                CXO   \n",
       "20     Company size                                  10,001+ employees   \n",
       "21     Company size                              5001-10,000 employees   \n",
       "22     Company size                                    11-50 employees   \n",
       "23     Company size                                1001-5000 employees   \n",
       "24     Company size                                     1-10 employees   \n",
       "25        Companies                             Cadence Design Systems   \n",
       "26        Companies                                       Synopsys Inc   \n",
       "27        Companies                                  Intel Corporation   \n",
       "\n",
       "   Percentage  \n",
       "0    0.034703  \n",
       "1    0.026637  \n",
       "2    0.022885  \n",
       "3     0.02176  \n",
       "4    0.017258  \n",
       "5     0.26768  \n",
       "6    0.063403  \n",
       "7     0.05815  \n",
       "8    0.046708  \n",
       "9    0.032639  \n",
       "10   0.263178  \n",
       "11   0.243106  \n",
       "12   0.071844  \n",
       "13   0.031326  \n",
       "14   0.027012  \n",
       "15    0.32658  \n",
       "16   0.166948  \n",
       "17   0.146877  \n",
       "18    0.07447  \n",
       "19    0.07447  \n",
       "20   0.238229  \n",
       "21   0.229225  \n",
       "22   0.086663  \n",
       "23    0.07522  \n",
       "24   0.075033  \n",
       "25   0.225849  \n",
       "26   0.038642  \n",
       "27   0.012568  "
      ]
     },
     "execution_count": 14,
     "metadata": {},
     "output_type": "execute_result"
    }
   ],
   "source": [
    "demographics = data['DEMOGRAPHICS']\n",
    "\n",
    "demographics = demographics[demographics['Percentage'] != '< 1%'].copy()\n",
    "demographics.loc[:, 'Percentage'] = pd.to_numeric(demographics['Percentage'], errors='coerce')\n",
    "demographics\n"
   ]
  },
  {
   "cell_type": "code",
   "execution_count": null,
   "metadata": {},
   "outputs": [
    {
     "data": {
      "text/html": [
       "<div>\n",
       "<style scoped>\n",
       "    .dataframe tbody tr th:only-of-type {\n",
       "        vertical-align: middle;\n",
       "    }\n",
       "\n",
       "    .dataframe tbody tr th {\n",
       "        vertical-align: top;\n",
       "    }\n",
       "\n",
       "    .dataframe thead th {\n",
       "        text-align: right;\n",
       "    }\n",
       "</style>\n",
       "<table border=\"1\" class=\"dataframe\">\n",
       "  <thead>\n",
       "    <tr style=\"text-align: right;\">\n",
       "      <th>1</th>\n",
       "      <th>Date</th>\n",
       "      <th>New followers</th>\n",
       "    </tr>\n",
       "  </thead>\n",
       "  <tbody>\n",
       "    <tr>\n",
       "      <th>0</th>\n",
       "      <td>2023-05-02</td>\n",
       "      <td>4</td>\n",
       "    </tr>\n",
       "    <tr>\n",
       "      <th>1</th>\n",
       "      <td>2023-05-03</td>\n",
       "      <td>9</td>\n",
       "    </tr>\n",
       "    <tr>\n",
       "      <th>2</th>\n",
       "      <td>2023-05-04</td>\n",
       "      <td>5</td>\n",
       "    </tr>\n",
       "    <tr>\n",
       "      <th>3</th>\n",
       "      <td>2023-05-05</td>\n",
       "      <td>6</td>\n",
       "    </tr>\n",
       "    <tr>\n",
       "      <th>4</th>\n",
       "      <td>2023-05-06</td>\n",
       "      <td>5</td>\n",
       "    </tr>\n",
       "  </tbody>\n",
       "</table>\n",
       "</div>"
      ],
      "text/plain": [
       "1       Date New followers\n",
       "0 2023-05-02             4\n",
       "1 2023-05-03             9\n",
       "2 2023-05-04             5\n",
       "3 2023-05-05             6\n",
       "4 2023-05-06             5"
      ]
     },
     "execution_count": 7,
     "metadata": {},
     "output_type": "execute_result"
    }
   ],
   "source": [
    "followers = data['FOLLOWERS']\n",
    "# Extract the total followers value\n",
    "total_followers = followers.columns[1]\n",
    "# Make the third row as the column titles\n",
    "new_header = followers.iloc[1]\n",
    "followers.columns = new_header\n",
    "# Drop the first two rows\n",
    "followers = followers.drop([0, 1])\n",
    "# Reset the index\n",
    "followers = followers.reset_index(drop=True)\n",
    "followers['Date'] = pd.to_datetime(followers['Date'])\n",
    "followers.head()"
   ]
  },
  {
   "cell_type": "code",
   "execution_count": null,
   "metadata": {},
   "outputs": [
    {
     "data": {
      "application/vnd.plotly.v1+json": {
       "config": {
        "plotlyServerURL": "https://plot.ly"
       },
       "data": [
        {
         "hovertemplate": "YearMonth=%{x}<br>New followers=%{y}<extra></extra>",
         "legendgroup": "",
         "line": {
          "color": "#636efa",
          "dash": "solid"
         },
         "marker": {
          "symbol": "circle"
         },
         "mode": "lines",
         "name": "",
         "orientation": "v",
         "showlegend": false,
         "type": "scatter",
         "x": [
          "2023-05",
          "2023-06",
          "2023-07",
          "2023-08",
          "2023-09",
          "2023-10",
          "2023-11",
          "2023-12",
          "2024-01",
          "2024-02",
          "2024-03",
          "2024-04"
         ],
         "xaxis": "x",
         "y": [
          148,
          156,
          196,
          191,
          108,
          127,
          163,
          75,
          130,
          204,
          152,
          153
         ],
         "yaxis": "y"
        }
       ],
       "layout": {
        "legend": {
         "tracegroupgap": 0
        },
        "template": {
         "data": {
          "bar": [
           {
            "error_x": {
             "color": "#2a3f5f"
            },
            "error_y": {
             "color": "#2a3f5f"
            },
            "marker": {
             "line": {
              "color": "#E5ECF6",
              "width": 0.5
             },
             "pattern": {
              "fillmode": "overlay",
              "size": 10,
              "solidity": 0.2
             }
            },
            "type": "bar"
           }
          ],
          "barpolar": [
           {
            "marker": {
             "line": {
              "color": "#E5ECF6",
              "width": 0.5
             },
             "pattern": {
              "fillmode": "overlay",
              "size": 10,
              "solidity": 0.2
             }
            },
            "type": "barpolar"
           }
          ],
          "carpet": [
           {
            "aaxis": {
             "endlinecolor": "#2a3f5f",
             "gridcolor": "white",
             "linecolor": "white",
             "minorgridcolor": "white",
             "startlinecolor": "#2a3f5f"
            },
            "baxis": {
             "endlinecolor": "#2a3f5f",
             "gridcolor": "white",
             "linecolor": "white",
             "minorgridcolor": "white",
             "startlinecolor": "#2a3f5f"
            },
            "type": "carpet"
           }
          ],
          "choropleth": [
           {
            "colorbar": {
             "outlinewidth": 0,
             "ticks": ""
            },
            "type": "choropleth"
           }
          ],
          "contour": [
           {
            "colorbar": {
             "outlinewidth": 0,
             "ticks": ""
            },
            "colorscale": [
             [
              0,
              "#0d0887"
             ],
             [
              0.1111111111111111,
              "#46039f"
             ],
             [
              0.2222222222222222,
              "#7201a8"
             ],
             [
              0.3333333333333333,
              "#9c179e"
             ],
             [
              0.4444444444444444,
              "#bd3786"
             ],
             [
              0.5555555555555556,
              "#d8576b"
             ],
             [
              0.6666666666666666,
              "#ed7953"
             ],
             [
              0.7777777777777778,
              "#fb9f3a"
             ],
             [
              0.8888888888888888,
              "#fdca26"
             ],
             [
              1,
              "#f0f921"
             ]
            ],
            "type": "contour"
           }
          ],
          "contourcarpet": [
           {
            "colorbar": {
             "outlinewidth": 0,
             "ticks": ""
            },
            "type": "contourcarpet"
           }
          ],
          "heatmap": [
           {
            "colorbar": {
             "outlinewidth": 0,
             "ticks": ""
            },
            "colorscale": [
             [
              0,
              "#0d0887"
             ],
             [
              0.1111111111111111,
              "#46039f"
             ],
             [
              0.2222222222222222,
              "#7201a8"
             ],
             [
              0.3333333333333333,
              "#9c179e"
             ],
             [
              0.4444444444444444,
              "#bd3786"
             ],
             [
              0.5555555555555556,
              "#d8576b"
             ],
             [
              0.6666666666666666,
              "#ed7953"
             ],
             [
              0.7777777777777778,
              "#fb9f3a"
             ],
             [
              0.8888888888888888,
              "#fdca26"
             ],
             [
              1,
              "#f0f921"
             ]
            ],
            "type": "heatmap"
           }
          ],
          "heatmapgl": [
           {
            "colorbar": {
             "outlinewidth": 0,
             "ticks": ""
            },
            "colorscale": [
             [
              0,
              "#0d0887"
             ],
             [
              0.1111111111111111,
              "#46039f"
             ],
             [
              0.2222222222222222,
              "#7201a8"
             ],
             [
              0.3333333333333333,
              "#9c179e"
             ],
             [
              0.4444444444444444,
              "#bd3786"
             ],
             [
              0.5555555555555556,
              "#d8576b"
             ],
             [
              0.6666666666666666,
              "#ed7953"
             ],
             [
              0.7777777777777778,
              "#fb9f3a"
             ],
             [
              0.8888888888888888,
              "#fdca26"
             ],
             [
              1,
              "#f0f921"
             ]
            ],
            "type": "heatmapgl"
           }
          ],
          "histogram": [
           {
            "marker": {
             "pattern": {
              "fillmode": "overlay",
              "size": 10,
              "solidity": 0.2
             }
            },
            "type": "histogram"
           }
          ],
          "histogram2d": [
           {
            "colorbar": {
             "outlinewidth": 0,
             "ticks": ""
            },
            "colorscale": [
             [
              0,
              "#0d0887"
             ],
             [
              0.1111111111111111,
              "#46039f"
             ],
             [
              0.2222222222222222,
              "#7201a8"
             ],
             [
              0.3333333333333333,
              "#9c179e"
             ],
             [
              0.4444444444444444,
              "#bd3786"
             ],
             [
              0.5555555555555556,
              "#d8576b"
             ],
             [
              0.6666666666666666,
              "#ed7953"
             ],
             [
              0.7777777777777778,
              "#fb9f3a"
             ],
             [
              0.8888888888888888,
              "#fdca26"
             ],
             [
              1,
              "#f0f921"
             ]
            ],
            "type": "histogram2d"
           }
          ],
          "histogram2dcontour": [
           {
            "colorbar": {
             "outlinewidth": 0,
             "ticks": ""
            },
            "colorscale": [
             [
              0,
              "#0d0887"
             ],
             [
              0.1111111111111111,
              "#46039f"
             ],
             [
              0.2222222222222222,
              "#7201a8"
             ],
             [
              0.3333333333333333,
              "#9c179e"
             ],
             [
              0.4444444444444444,
              "#bd3786"
             ],
             [
              0.5555555555555556,
              "#d8576b"
             ],
             [
              0.6666666666666666,
              "#ed7953"
             ],
             [
              0.7777777777777778,
              "#fb9f3a"
             ],
             [
              0.8888888888888888,
              "#fdca26"
             ],
             [
              1,
              "#f0f921"
             ]
            ],
            "type": "histogram2dcontour"
           }
          ],
          "mesh3d": [
           {
            "colorbar": {
             "outlinewidth": 0,
             "ticks": ""
            },
            "type": "mesh3d"
           }
          ],
          "parcoords": [
           {
            "line": {
             "colorbar": {
              "outlinewidth": 0,
              "ticks": ""
             }
            },
            "type": "parcoords"
           }
          ],
          "pie": [
           {
            "automargin": true,
            "type": "pie"
           }
          ],
          "scatter": [
           {
            "fillpattern": {
             "fillmode": "overlay",
             "size": 10,
             "solidity": 0.2
            },
            "type": "scatter"
           }
          ],
          "scatter3d": [
           {
            "line": {
             "colorbar": {
              "outlinewidth": 0,
              "ticks": ""
             }
            },
            "marker": {
             "colorbar": {
              "outlinewidth": 0,
              "ticks": ""
             }
            },
            "type": "scatter3d"
           }
          ],
          "scattercarpet": [
           {
            "marker": {
             "colorbar": {
              "outlinewidth": 0,
              "ticks": ""
             }
            },
            "type": "scattercarpet"
           }
          ],
          "scattergeo": [
           {
            "marker": {
             "colorbar": {
              "outlinewidth": 0,
              "ticks": ""
             }
            },
            "type": "scattergeo"
           }
          ],
          "scattergl": [
           {
            "marker": {
             "colorbar": {
              "outlinewidth": 0,
              "ticks": ""
             }
            },
            "type": "scattergl"
           }
          ],
          "scattermapbox": [
           {
            "marker": {
             "colorbar": {
              "outlinewidth": 0,
              "ticks": ""
             }
            },
            "type": "scattermapbox"
           }
          ],
          "scatterpolar": [
           {
            "marker": {
             "colorbar": {
              "outlinewidth": 0,
              "ticks": ""
             }
            },
            "type": "scatterpolar"
           }
          ],
          "scatterpolargl": [
           {
            "marker": {
             "colorbar": {
              "outlinewidth": 0,
              "ticks": ""
             }
            },
            "type": "scatterpolargl"
           }
          ],
          "scatterternary": [
           {
            "marker": {
             "colorbar": {
              "outlinewidth": 0,
              "ticks": ""
             }
            },
            "type": "scatterternary"
           }
          ],
          "surface": [
           {
            "colorbar": {
             "outlinewidth": 0,
             "ticks": ""
            },
            "colorscale": [
             [
              0,
              "#0d0887"
             ],
             [
              0.1111111111111111,
              "#46039f"
             ],
             [
              0.2222222222222222,
              "#7201a8"
             ],
             [
              0.3333333333333333,
              "#9c179e"
             ],
             [
              0.4444444444444444,
              "#bd3786"
             ],
             [
              0.5555555555555556,
              "#d8576b"
             ],
             [
              0.6666666666666666,
              "#ed7953"
             ],
             [
              0.7777777777777778,
              "#fb9f3a"
             ],
             [
              0.8888888888888888,
              "#fdca26"
             ],
             [
              1,
              "#f0f921"
             ]
            ],
            "type": "surface"
           }
          ],
          "table": [
           {
            "cells": {
             "fill": {
              "color": "#EBF0F8"
             },
             "line": {
              "color": "white"
             }
            },
            "header": {
             "fill": {
              "color": "#C8D4E3"
             },
             "line": {
              "color": "white"
             }
            },
            "type": "table"
           }
          ]
         },
         "layout": {
          "annotationdefaults": {
           "arrowcolor": "#2a3f5f",
           "arrowhead": 0,
           "arrowwidth": 1
          },
          "autotypenumbers": "strict",
          "coloraxis": {
           "colorbar": {
            "outlinewidth": 0,
            "ticks": ""
           }
          },
          "colorscale": {
           "diverging": [
            [
             0,
             "#8e0152"
            ],
            [
             0.1,
             "#c51b7d"
            ],
            [
             0.2,
             "#de77ae"
            ],
            [
             0.3,
             "#f1b6da"
            ],
            [
             0.4,
             "#fde0ef"
            ],
            [
             0.5,
             "#f7f7f7"
            ],
            [
             0.6,
             "#e6f5d0"
            ],
            [
             0.7,
             "#b8e186"
            ],
            [
             0.8,
             "#7fbc41"
            ],
            [
             0.9,
             "#4d9221"
            ],
            [
             1,
             "#276419"
            ]
           ],
           "sequential": [
            [
             0,
             "#0d0887"
            ],
            [
             0.1111111111111111,
             "#46039f"
            ],
            [
             0.2222222222222222,
             "#7201a8"
            ],
            [
             0.3333333333333333,
             "#9c179e"
            ],
            [
             0.4444444444444444,
             "#bd3786"
            ],
            [
             0.5555555555555556,
             "#d8576b"
            ],
            [
             0.6666666666666666,
             "#ed7953"
            ],
            [
             0.7777777777777778,
             "#fb9f3a"
            ],
            [
             0.8888888888888888,
             "#fdca26"
            ],
            [
             1,
             "#f0f921"
            ]
           ],
           "sequentialminus": [
            [
             0,
             "#0d0887"
            ],
            [
             0.1111111111111111,
             "#46039f"
            ],
            [
             0.2222222222222222,
             "#7201a8"
            ],
            [
             0.3333333333333333,
             "#9c179e"
            ],
            [
             0.4444444444444444,
             "#bd3786"
            ],
            [
             0.5555555555555556,
             "#d8576b"
            ],
            [
             0.6666666666666666,
             "#ed7953"
            ],
            [
             0.7777777777777778,
             "#fb9f3a"
            ],
            [
             0.8888888888888888,
             "#fdca26"
            ],
            [
             1,
             "#f0f921"
            ]
           ]
          },
          "colorway": [
           "#636efa",
           "#EF553B",
           "#00cc96",
           "#ab63fa",
           "#FFA15A",
           "#19d3f3",
           "#FF6692",
           "#B6E880",
           "#FF97FF",
           "#FECB52"
          ],
          "font": {
           "color": "#2a3f5f"
          },
          "geo": {
           "bgcolor": "white",
           "lakecolor": "white",
           "landcolor": "#E5ECF6",
           "showlakes": true,
           "showland": true,
           "subunitcolor": "white"
          },
          "hoverlabel": {
           "align": "left"
          },
          "hovermode": "closest",
          "mapbox": {
           "style": "light"
          },
          "paper_bgcolor": "white",
          "plot_bgcolor": "#E5ECF6",
          "polar": {
           "angularaxis": {
            "gridcolor": "white",
            "linecolor": "white",
            "ticks": ""
           },
           "bgcolor": "#E5ECF6",
           "radialaxis": {
            "gridcolor": "white",
            "linecolor": "white",
            "ticks": ""
           }
          },
          "scene": {
           "xaxis": {
            "backgroundcolor": "#E5ECF6",
            "gridcolor": "white",
            "gridwidth": 2,
            "linecolor": "white",
            "showbackground": true,
            "ticks": "",
            "zerolinecolor": "white"
           },
           "yaxis": {
            "backgroundcolor": "#E5ECF6",
            "gridcolor": "white",
            "gridwidth": 2,
            "linecolor": "white",
            "showbackground": true,
            "ticks": "",
            "zerolinecolor": "white"
           },
           "zaxis": {
            "backgroundcolor": "#E5ECF6",
            "gridcolor": "white",
            "gridwidth": 2,
            "linecolor": "white",
            "showbackground": true,
            "ticks": "",
            "zerolinecolor": "white"
           }
          },
          "shapedefaults": {
           "line": {
            "color": "#2a3f5f"
           }
          },
          "ternary": {
           "aaxis": {
            "gridcolor": "white",
            "linecolor": "white",
            "ticks": ""
           },
           "baxis": {
            "gridcolor": "white",
            "linecolor": "white",
            "ticks": ""
           },
           "bgcolor": "#E5ECF6",
           "caxis": {
            "gridcolor": "white",
            "linecolor": "white",
            "ticks": ""
           }
          },
          "title": {
           "x": 0.05
          },
          "xaxis": {
           "automargin": true,
           "gridcolor": "white",
           "linecolor": "white",
           "ticks": "",
           "title": {
            "standoff": 15
           },
           "zerolinecolor": "white",
           "zerolinewidth": 2
          },
          "yaxis": {
           "automargin": true,
           "gridcolor": "white",
           "linecolor": "white",
           "ticks": "",
           "title": {
            "standoff": 15
           },
           "zerolinecolor": "white",
           "zerolinewidth": 2
          }
         }
        },
        "title": {
         "text": "New Followers Over Time"
        },
        "xaxis": {
         "anchor": "y",
         "domain": [
          0,
          1
         ],
         "title": {
          "text": "YearMonth"
         }
        },
        "yaxis": {
         "anchor": "x",
         "domain": [
          0,
          1
         ],
         "title": {
          "text": "New followers"
         }
        }
       }
      }
     },
     "metadata": {},
     "output_type": "display_data"
    }
   ],
   "source": [
    "df = followers.copy()\n",
    "df['YearMonth'] = df['Date'].dt.to_period('M')\n",
    "df['YearMonth'] = df['YearMonth'].astype(str)\n",
    "monthly_followers = df.groupby('YearMonth')['New followers'].sum().reset_index()\n",
    "import plotly.express as px\n",
    "\n",
    "fig = px.line(monthly_followers, x='YearMonth', y='New followers', title='New Followers Over Time')\n",
    "fig.show()\n"
   ]
  },
  {
   "cell_type": "code",
   "execution_count": null,
   "metadata": {},
   "outputs": [
    {
     "data": {
      "text/html": [
       "<div>\n",
       "<style scoped>\n",
       "    .dataframe tbody tr th:only-of-type {\n",
       "        vertical-align: middle;\n",
       "    }\n",
       "\n",
       "    .dataframe tbody tr th {\n",
       "        vertical-align: top;\n",
       "    }\n",
       "\n",
       "    .dataframe thead th {\n",
       "        text-align: right;\n",
       "    }\n",
       "</style>\n",
       "<table border=\"1\" class=\"dataframe\">\n",
       "  <thead>\n",
       "    <tr style=\"text-align: right;\">\n",
       "      <th>1</th>\n",
       "      <th>Post URL</th>\n",
       "      <th>Post publish date</th>\n",
       "      <th>Engagements</th>\n",
       "      <th>Post URL</th>\n",
       "      <th>Post publish date</th>\n",
       "      <th>Impressions</th>\n",
       "    </tr>\n",
       "  </thead>\n",
       "  <tbody>\n",
       "    <tr>\n",
       "      <th>2</th>\n",
       "      <td>https://www.linkedin.com/feed/update/urn:li:ac...</td>\n",
       "      <td>7/17/2023</td>\n",
       "      <td>835</td>\n",
       "      <td>https://www.linkedin.com/feed/update/urn:li:ac...</td>\n",
       "      <td>8/9/2023</td>\n",
       "      <td>57830</td>\n",
       "    </tr>\n",
       "    <tr>\n",
       "      <th>3</th>\n",
       "      <td>https://www.linkedin.com/feed/update/urn:li:ac...</td>\n",
       "      <td>8/9/2023</td>\n",
       "      <td>530</td>\n",
       "      <td>https://www.linkedin.com/feed/update/urn:li:ac...</td>\n",
       "      <td>6/26/2023</td>\n",
       "      <td>18304</td>\n",
       "    </tr>\n",
       "    <tr>\n",
       "      <th>4</th>\n",
       "      <td>https://www.linkedin.com/feed/update/urn:li:ac...</td>\n",
       "      <td>12/24/2023</td>\n",
       "      <td>511</td>\n",
       "      <td>https://www.linkedin.com/feed/update/urn:li:ac...</td>\n",
       "      <td>1/17/2024</td>\n",
       "      <td>16195</td>\n",
       "    </tr>\n",
       "    <tr>\n",
       "      <th>5</th>\n",
       "      <td>https://www.linkedin.com/feed/update/urn:li:ac...</td>\n",
       "      <td>6/1/2023</td>\n",
       "      <td>405</td>\n",
       "      <td>https://www.linkedin.com/feed/update/urn:li:ac...</td>\n",
       "      <td>2/5/2024</td>\n",
       "      <td>12187</td>\n",
       "    </tr>\n",
       "    <tr>\n",
       "      <th>6</th>\n",
       "      <td>https://www.linkedin.com/feed/update/urn:li:ac...</td>\n",
       "      <td>11/23/2023</td>\n",
       "      <td>337</td>\n",
       "      <td>https://www.linkedin.com/feed/update/urn:li:ac...</td>\n",
       "      <td>9/11/2023</td>\n",
       "      <td>10788</td>\n",
       "    </tr>\n",
       "  </tbody>\n",
       "</table>\n",
       "</div>"
      ],
      "text/plain": [
       "1                                           Post URL Post publish date  \\\n",
       "2  https://www.linkedin.com/feed/update/urn:li:ac...         7/17/2023   \n",
       "3  https://www.linkedin.com/feed/update/urn:li:ac...          8/9/2023   \n",
       "4  https://www.linkedin.com/feed/update/urn:li:ac...        12/24/2023   \n",
       "5  https://www.linkedin.com/feed/update/urn:li:ac...          6/1/2023   \n",
       "6  https://www.linkedin.com/feed/update/urn:li:ac...        11/23/2023   \n",
       "\n",
       "1 Engagements                                           Post URL  \\\n",
       "2         835  https://www.linkedin.com/feed/update/urn:li:ac...   \n",
       "3         530  https://www.linkedin.com/feed/update/urn:li:ac...   \n",
       "4         511  https://www.linkedin.com/feed/update/urn:li:ac...   \n",
       "5         405  https://www.linkedin.com/feed/update/urn:li:ac...   \n",
       "6         337  https://www.linkedin.com/feed/update/urn:li:ac...   \n",
       "\n",
       "1 Post publish date Impressions  \n",
       "2          8/9/2023       57830  \n",
       "3         6/26/2023       18304  \n",
       "4         1/17/2024       16195  \n",
       "5          2/5/2024       12187  \n",
       "6         9/11/2023       10788  "
      ]
     },
     "execution_count": 9,
     "metadata": {},
     "output_type": "execute_result"
    }
   ],
   "source": [
    "top_posts = data['TOP POSTS']\n",
    "new_header = top_posts.iloc[1]\n",
    "top_posts.columns = new_header\n",
    "top_posts = top_posts.drop([0,1])\n",
    "top_posts = top_posts.dropna(axis=1, how='all')\n",
    "top_posts.head()"
   ]
  },
  {
   "cell_type": "code",
   "execution_count": null,
   "metadata": {},
   "outputs": [
    {
     "data": {
      "text/html": [
       "<div>\n",
       "<style scoped>\n",
       "    .dataframe tbody tr th:only-of-type {\n",
       "        vertical-align: middle;\n",
       "    }\n",
       "\n",
       "    .dataframe tbody tr th {\n",
       "        vertical-align: top;\n",
       "    }\n",
       "\n",
       "    .dataframe thead th {\n",
       "        text-align: right;\n",
       "    }\n",
       "</style>\n",
       "<table border=\"1\" class=\"dataframe\">\n",
       "  <thead>\n",
       "    <tr style=\"text-align: right;\">\n",
       "      <th>1</th>\n",
       "      <th>Post URL</th>\n",
       "      <th>Post publish date</th>\n",
       "      <th>Engagements</th>\n",
       "      <th>Impressions</th>\n",
       "    </tr>\n",
       "  </thead>\n",
       "  <tbody>\n",
       "    <tr>\n",
       "      <th>0</th>\n",
       "      <td>https://www.linkedin.com/feed/update/urn:li:ac...</td>\n",
       "      <td>7/17/2023</td>\n",
       "      <td>835</td>\n",
       "      <td>7548</td>\n",
       "    </tr>\n",
       "    <tr>\n",
       "      <th>1</th>\n",
       "      <td>https://www.linkedin.com/feed/update/urn:li:ac...</td>\n",
       "      <td>8/9/2023</td>\n",
       "      <td>530</td>\n",
       "      <td>57830</td>\n",
       "    </tr>\n",
       "    <tr>\n",
       "      <th>2</th>\n",
       "      <td>https://www.linkedin.com/feed/update/urn:li:ac...</td>\n",
       "      <td>12/24/2023</td>\n",
       "      <td>511</td>\n",
       "      <td>10631</td>\n",
       "    </tr>\n",
       "    <tr>\n",
       "      <th>3</th>\n",
       "      <td>https://www.linkedin.com/feed/update/urn:li:ac...</td>\n",
       "      <td>6/1/2023</td>\n",
       "      <td>405</td>\n",
       "      <td>8802</td>\n",
       "    </tr>\n",
       "    <tr>\n",
       "      <th>4</th>\n",
       "      <td>https://www.linkedin.com/feed/update/urn:li:ac...</td>\n",
       "      <td>11/23/2023</td>\n",
       "      <td>337</td>\n",
       "      <td>10124</td>\n",
       "    </tr>\n",
       "  </tbody>\n",
       "</table>\n",
       "</div>"
      ],
      "text/plain": [
       "1                                           Post URL Post publish date  \\\n",
       "0  https://www.linkedin.com/feed/update/urn:li:ac...         7/17/2023   \n",
       "1  https://www.linkedin.com/feed/update/urn:li:ac...          8/9/2023   \n",
       "2  https://www.linkedin.com/feed/update/urn:li:ac...        12/24/2023   \n",
       "3  https://www.linkedin.com/feed/update/urn:li:ac...          6/1/2023   \n",
       "4  https://www.linkedin.com/feed/update/urn:li:ac...        11/23/2023   \n",
       "\n",
       "1 Engagements Impressions  \n",
       "0         835        7548  \n",
       "1         530       57830  \n",
       "2         511       10631  \n",
       "3         405        8802  \n",
       "4         337       10124  "
      ]
     },
     "execution_count": 10,
     "metadata": {},
     "output_type": "execute_result"
    }
   ],
   "source": [
    "# split impressions and engageents data\n",
    "top_posts_engagements = top_posts.iloc[:,:3]\n",
    "top_posts_impressions = top_posts.iloc[:,3:]\n",
    "\n",
    "merged_data = pd.merge(top_posts_engagements, top_posts_impressions, on='Post URL', how='inner')\n",
    "merged_data = merged_data.rename(columns={'Engagements_x':'Engagements','Engagements_y':'Impressions','Post publish date_x':'Post publish date'})\n",
    "merged_data = merged_data.drop(columns=['Post publish date_y'])\n",
    "merged_data.head()"
   ]
  },
  {
   "cell_type": "code",
   "execution_count": 11,
   "metadata": {},
   "outputs": [
    {
     "data": {
      "text/html": [
       "<div>\n",
       "<style scoped>\n",
       "    .dataframe tbody tr th:only-of-type {\n",
       "        vertical-align: middle;\n",
       "    }\n",
       "\n",
       "    .dataframe tbody tr th {\n",
       "        vertical-align: top;\n",
       "    }\n",
       "\n",
       "    .dataframe thead th {\n",
       "        text-align: right;\n",
       "    }\n",
       "</style>\n",
       "<table border=\"1\" class=\"dataframe\">\n",
       "  <thead>\n",
       "    <tr style=\"text-align: right;\">\n",
       "      <th></th>\n",
       "      <th>Unnamed: 0</th>\n",
       "      <th>Post URL</th>\n",
       "      <th>Post publish date</th>\n",
       "      <th>Engagements</th>\n",
       "      <th>Impressions</th>\n",
       "      <th>Title</th>\n",
       "      <th>Description</th>\n",
       "      <th>Thumbnail</th>\n",
       "      <th>Topics</th>\n",
       "    </tr>\n",
       "  </thead>\n",
       "  <tbody>\n",
       "    <tr>\n",
       "      <th>0</th>\n",
       "      <td>0</td>\n",
       "      <td>https://www.linkedin.com/feed/update/urn:li:ac...</td>\n",
       "      <td>2023-07-17</td>\n",
       "      <td>835</td>\n",
       "      <td>7548</td>\n",
       "      <td>KT Moore on LinkedIn: #honoredandgrateful #dei...</td>\n",
       "      <td>I want to express my heartfelt thanks to SEMI ...</td>\n",
       "      <td>https://media.licdn.com/dms/image/D5610AQGkQ-Y...</td>\n",
       "      <td>DEIB Recognition, Gratitude, SEMI Honor, Shapi...</td>\n",
       "    </tr>\n",
       "    <tr>\n",
       "      <th>1</th>\n",
       "      <td>1</td>\n",
       "      <td>https://www.linkedin.com/feed/update/urn:li:ac...</td>\n",
       "      <td>2023-08-09</td>\n",
       "      <td>530</td>\n",
       "      <td>57830</td>\n",
       "      <td>KT Moore on LinkedIn: How Artificial Intellige...</td>\n",
       "      <td>Behind every Formula One (#F1) car tearing up ...</td>\n",
       "      <td>https://media.licdn.com/dms/image/sync/D5627AQ...</td>\n",
       "      <td>Engineering Excellence, Team Collaboration, Hi...</td>\n",
       "    </tr>\n",
       "    <tr>\n",
       "      <th>2</th>\n",
       "      <td>2</td>\n",
       "      <td>https://www.linkedin.com/feed/update/urn:li:ac...</td>\n",
       "      <td>2023-12-24</td>\n",
       "      <td>511</td>\n",
       "      <td>10631</td>\n",
       "      <td>KT Moore on LinkedIn: #holidayseason #happyhol...</td>\n",
       "      <td>As the year comes to a close, let&amp;#39;s expres...</td>\n",
       "      <td>https://media.licdn.com/dms/image/D5622AQGAiid...</td>\n",
       "      <td>Gratitude, Reflection, Growth, Appreciation, N...</td>\n",
       "    </tr>\n",
       "    <tr>\n",
       "      <th>3</th>\n",
       "      <td>3</td>\n",
       "      <td>https://www.linkedin.com/feed/update/urn:li:ac...</td>\n",
       "      <td>2023-06-01</td>\n",
       "      <td>405</td>\n",
       "      <td>8802</td>\n",
       "      <td>KT Moore on LinkedIn: #innovation #intelligent...</td>\n",
       "      <td>Excited to be part of this morning’s opening b...</td>\n",
       "      <td>https://media.licdn.com/dms/image/D5622AQEhpM_...</td>\n",
       "      <td>Nasdaq Ceremony, CEO Devgan, Trading, Cadence ...</td>\n",
       "    </tr>\n",
       "    <tr>\n",
       "      <th>4</th>\n",
       "      <td>4</td>\n",
       "      <td>https://www.linkedin.com/feed/update/urn:li:ac...</td>\n",
       "      <td>2023-11-23</td>\n",
       "      <td>337</td>\n",
       "      <td>10124</td>\n",
       "      <td>KT Moore on LinkedIn: #thanksgiving2023 #thank...</td>\n",
       "      <td>This Thanksgiving, I encourage you to not only...</td>\n",
       "      <td>https://media.licdn.com/dms/image/D5610AQEH9et...</td>\n",
       "      <td>Gratitude, Community, Compassion, Inclusivity,...</td>\n",
       "    </tr>\n",
       "  </tbody>\n",
       "</table>\n",
       "</div>"
      ],
      "text/plain": [
       "   Unnamed: 0                                           Post URL  \\\n",
       "0           0  https://www.linkedin.com/feed/update/urn:li:ac...   \n",
       "1           1  https://www.linkedin.com/feed/update/urn:li:ac...   \n",
       "2           2  https://www.linkedin.com/feed/update/urn:li:ac...   \n",
       "3           3  https://www.linkedin.com/feed/update/urn:li:ac...   \n",
       "4           4  https://www.linkedin.com/feed/update/urn:li:ac...   \n",
       "\n",
       "  Post publish date  Engagements  Impressions  \\\n",
       "0        2023-07-17          835         7548   \n",
       "1        2023-08-09          530        57830   \n",
       "2        2023-12-24          511        10631   \n",
       "3        2023-06-01          405         8802   \n",
       "4        2023-11-23          337        10124   \n",
       "\n",
       "                                               Title  \\\n",
       "0  KT Moore on LinkedIn: #honoredandgrateful #dei...   \n",
       "1  KT Moore on LinkedIn: How Artificial Intellige...   \n",
       "2  KT Moore on LinkedIn: #holidayseason #happyhol...   \n",
       "3  KT Moore on LinkedIn: #innovation #intelligent...   \n",
       "4  KT Moore on LinkedIn: #thanksgiving2023 #thank...   \n",
       "\n",
       "                                         Description  \\\n",
       "0  I want to express my heartfelt thanks to SEMI ...   \n",
       "1  Behind every Formula One (#F1) car tearing up ...   \n",
       "2  As the year comes to a close, let&#39;s expres...   \n",
       "3  Excited to be part of this morning’s opening b...   \n",
       "4  This Thanksgiving, I encourage you to not only...   \n",
       "\n",
       "                                           Thumbnail  \\\n",
       "0  https://media.licdn.com/dms/image/D5610AQGkQ-Y...   \n",
       "1  https://media.licdn.com/dms/image/sync/D5627AQ...   \n",
       "2  https://media.licdn.com/dms/image/D5622AQGAiid...   \n",
       "3  https://media.licdn.com/dms/image/D5622AQEhpM_...   \n",
       "4  https://media.licdn.com/dms/image/D5610AQEH9et...   \n",
       "\n",
       "                                              Topics  \n",
       "0  DEIB Recognition, Gratitude, SEMI Honor, Shapi...  \n",
       "1  Engineering Excellence, Team Collaboration, Hi...  \n",
       "2  Gratitude, Reflection, Growth, Appreciation, N...  \n",
       "3  Nasdaq Ceremony, CEO Devgan, Trading, Cadence ...  \n",
       "4  Gratitude, Community, Compassion, Inclusivity,...  "
      ]
     },
     "execution_count": 11,
     "metadata": {},
     "output_type": "execute_result"
    }
   ],
   "source": [
    "top_posts_preview = pd.read_csv('data/top_posts_with_topics.csv')\n",
    "top_posts_preview['Post publish date'] = pd.to_datetime(top_posts_preview['Post publish date'])\n",
    "top_posts_preview.head()"
   ]
  },
  {
   "cell_type": "code",
   "execution_count": 11,
   "metadata": {},
   "outputs": [],
   "source": [
    "import requests\n",
    "from bs4 import BeautifulSoup\n",
    "import pandas as pd\n",
    "\n",
    "\n",
    "def get_post_info(url):\n",
    "    try:\n",
    "        # Fetch the webpage\n",
    "        response = requests.get(url)\n",
    "        response.raise_for_status()\n",
    "\n",
    "        # Parse the HTML content\n",
    "        soup = BeautifulSoup(response.text, 'html.parser')\n",
    "\n",
    "        # Find relevant Open Graph tags\n",
    "        og_title = soup.find('meta', property='og:title')\n",
    "        og_description = soup.find('meta', property='og:description')\n",
    "        og_image = soup.find('meta', property='og:image')\n",
    "\n",
    "        # Extract the content attribute which contains the information\n",
    "        title = og_title['content'] if og_title else \"Title not found\"\n",
    "        description = og_description['content'] if og_description else \"Description not found\"\n",
    "        thumbnail_url = og_image['content'] if og_image else None\n",
    "\n",
    "        return title, description, thumbnail_url\n",
    "    except Exception as e:\n",
    "        print(f\"An error occurred: {e}\")\n",
    "        return None, None, None\n",
    "    \n",
    "\n",
    "urls = merged_data['Post URL']\n",
    "\n",
    "# Initialize lists to store extracted information\n",
    "titles = []\n",
    "descriptions = []\n",
    "thumbnails = []\n",
    "for url in urls:\n",
    "    title, description, thumbnail_url = get_post_info(url)\n",
    "    titles.append(title)\n",
    "    descriptions.append(description)\n",
    "    thumbnails.append(thumbnail_url)\n",
    "# Create a DataFrame to store the data\n",
    "data_post_preview = {\n",
    "    'Title': titles,\n",
    "    'Description': descriptions,\n",
    "    'Thumbnail': thumbnails\n",
    "}\n"
   ]
  },
  {
   "cell_type": "code",
   "execution_count": 12,
   "metadata": {},
   "outputs": [
    {
     "data": {
      "text/html": [
       "<div>\n",
       "<style scoped>\n",
       "    .dataframe tbody tr th:only-of-type {\n",
       "        vertical-align: middle;\n",
       "    }\n",
       "\n",
       "    .dataframe tbody tr th {\n",
       "        vertical-align: top;\n",
       "    }\n",
       "\n",
       "    .dataframe thead th {\n",
       "        text-align: right;\n",
       "    }\n",
       "</style>\n",
       "<table border=\"1\" class=\"dataframe\">\n",
       "  <thead>\n",
       "    <tr style=\"text-align: right;\">\n",
       "      <th></th>\n",
       "      <th>Post URL</th>\n",
       "      <th>Post publish date</th>\n",
       "      <th>Engagements</th>\n",
       "      <th>Impressions</th>\n",
       "      <th>Title</th>\n",
       "      <th>Description</th>\n",
       "      <th>Thumbnail</th>\n",
       "    </tr>\n",
       "  </thead>\n",
       "  <tbody>\n",
       "    <tr>\n",
       "      <th>0</th>\n",
       "      <td>https://www.linkedin.com/feed/update/urn:li:ac...</td>\n",
       "      <td>7/17/2023</td>\n",
       "      <td>835</td>\n",
       "      <td>7548</td>\n",
       "      <td>KT Moore on LinkedIn: #honoredandgrateful #dei...</td>\n",
       "      <td>I want to express my heartfelt thanks to SEMI ...</td>\n",
       "      <td>https://media.licdn.com/dms/image/D5610AQGkQ-Y...</td>\n",
       "    </tr>\n",
       "    <tr>\n",
       "      <th>1</th>\n",
       "      <td>https://www.linkedin.com/feed/update/urn:li:ac...</td>\n",
       "      <td>8/9/2023</td>\n",
       "      <td>530</td>\n",
       "      <td>57830</td>\n",
       "      <td>KT Moore on LinkedIn: How Artificial Intellige...</td>\n",
       "      <td>Behind every Formula One (#F1) car tearing up ...</td>\n",
       "      <td>https://media.licdn.com/dms/image/sync/D5627AQ...</td>\n",
       "    </tr>\n",
       "    <tr>\n",
       "      <th>2</th>\n",
       "      <td>https://www.linkedin.com/feed/update/urn:li:ac...</td>\n",
       "      <td>12/24/2023</td>\n",
       "      <td>511</td>\n",
       "      <td>10631</td>\n",
       "      <td>KT Moore on LinkedIn: #holidayseason #happyhol...</td>\n",
       "      <td>As the year comes to a close, let&amp;#39;s expres...</td>\n",
       "      <td>https://media.licdn.com/dms/image/D5622AQGAiid...</td>\n",
       "    </tr>\n",
       "    <tr>\n",
       "      <th>3</th>\n",
       "      <td>https://www.linkedin.com/feed/update/urn:li:ac...</td>\n",
       "      <td>6/1/2023</td>\n",
       "      <td>405</td>\n",
       "      <td>8802</td>\n",
       "      <td>KT Moore on LinkedIn: #innovation #intelligent...</td>\n",
       "      <td>Excited to be part of this morning’s opening b...</td>\n",
       "      <td>https://media.licdn.com/dms/image/D5622AQEhpM_...</td>\n",
       "    </tr>\n",
       "    <tr>\n",
       "      <th>4</th>\n",
       "      <td>https://www.linkedin.com/feed/update/urn:li:ac...</td>\n",
       "      <td>11/23/2023</td>\n",
       "      <td>337</td>\n",
       "      <td>10124</td>\n",
       "      <td>KT Moore on LinkedIn: #thanksgiving2023 #thank...</td>\n",
       "      <td>This Thanksgiving, I encourage you to not only...</td>\n",
       "      <td>https://media.licdn.com/dms/image/D5610AQEH9et...</td>\n",
       "    </tr>\n",
       "  </tbody>\n",
       "</table>\n",
       "</div>"
      ],
      "text/plain": [
       "                                            Post URL Post publish date  \\\n",
       "0  https://www.linkedin.com/feed/update/urn:li:ac...         7/17/2023   \n",
       "1  https://www.linkedin.com/feed/update/urn:li:ac...          8/9/2023   \n",
       "2  https://www.linkedin.com/feed/update/urn:li:ac...        12/24/2023   \n",
       "3  https://www.linkedin.com/feed/update/urn:li:ac...          6/1/2023   \n",
       "4  https://www.linkedin.com/feed/update/urn:li:ac...        11/23/2023   \n",
       "\n",
       "  Engagements Impressions                                              Title  \\\n",
       "0         835        7548  KT Moore on LinkedIn: #honoredandgrateful #dei...   \n",
       "1         530       57830  KT Moore on LinkedIn: How Artificial Intellige...   \n",
       "2         511       10631  KT Moore on LinkedIn: #holidayseason #happyhol...   \n",
       "3         405        8802  KT Moore on LinkedIn: #innovation #intelligent...   \n",
       "4         337       10124  KT Moore on LinkedIn: #thanksgiving2023 #thank...   \n",
       "\n",
       "                                         Description  \\\n",
       "0  I want to express my heartfelt thanks to SEMI ...   \n",
       "1  Behind every Formula One (#F1) car tearing up ...   \n",
       "2  As the year comes to a close, let&#39;s expres...   \n",
       "3  Excited to be part of this morning’s opening b...   \n",
       "4  This Thanksgiving, I encourage you to not only...   \n",
       "\n",
       "                                           Thumbnail  \n",
       "0  https://media.licdn.com/dms/image/D5610AQGkQ-Y...  \n",
       "1  https://media.licdn.com/dms/image/sync/D5627AQ...  \n",
       "2  https://media.licdn.com/dms/image/D5622AQGAiid...  \n",
       "3  https://media.licdn.com/dms/image/D5622AQEhpM_...  \n",
       "4  https://media.licdn.com/dms/image/D5610AQEH9et...  "
      ]
     },
     "execution_count": 12,
     "metadata": {},
     "output_type": "execute_result"
    }
   ],
   "source": [
    "data_post_preview = pd.DataFrame(data_post_preview)\n",
    "top_posts_preview = pd.concat([merged_data, data_post_preview], axis=1)\n",
    "top_posts_preview.head()"
   ]
  },
  {
   "cell_type": "markdown",
   "metadata": {},
   "source": [
    "### Topic Modelling"
   ]
  },
  {
   "cell_type": "code",
   "execution_count": 53,
   "metadata": {},
   "outputs": [
    {
     "data": {
      "application/vnd.jupyter.widget-view+json": {
       "model_id": "e1da20cf2f86472fb3384b939ae74dee",
       "version_major": 2,
       "version_minor": 0
      },
      "text/plain": [
       "Batches:   0%|          | 0/2 [00:00<?, ?it/s]"
      ]
     },
     "metadata": {},
     "output_type": "display_data"
    },
    {
     "name": "stderr",
     "output_type": "stream",
     "text": [
      "2024-05-11 11:05:43,027 - BERTopic - Predicting topic assignments through cosine similarity of topic and document embeddings.\n"
     ]
    },
    {
     "data": {
      "application/vnd.plotly.v1+json": {
       "config": {
        "plotlyServerURL": "https://plot.ly"
       },
       "data": [
        {
         "marker": {
          "color": "#D55E00"
         },
         "orientation": "h",
         "type": "bar",
         "x": [
          0.2651599943637848,
          0.29333215951919556,
          0.37633663415908813,
          0.42098575830459595,
          0.4242607653141022
         ],
         "xaxis": "x",
         "y": [
          "language  ",
          "assistant  ",
          "chatgpt  ",
          "ai  ",
          "openai  "
         ],
         "yaxis": "y"
        },
        {
         "marker": {
          "color": "#0072B2"
         },
         "orientation": "h",
         "type": "bar",
         "x": [
          0.2622171640396118,
          0.3211679458618164,
          0.33353191614151,
          0.42604687809944153,
          0.547958493232727
         ],
         "xaxis": "x2",
         "y": [
          "thank  ",
          "helpful  ",
          "assistance  ",
          "welcome  ",
          "anytime  "
         ],
         "yaxis": "y2"
        },
        {
         "marker": {
          "color": "#CC79A7"
         },
         "orientation": "h",
         "type": "bar",
         "x": [
          0.32160860300064087,
          0.3550110459327698,
          0.36515480279922485,
          0.3819512724876404,
          0.5531997084617615
         ],
         "xaxis": "x3",
         "y": [
          "relativity  ",
          "particles  ",
          "physics  ",
          "particle  ",
          "quantum  "
         ],
         "yaxis": "y3"
        },
        {
         "marker": {
          "color": "#E69F00"
         },
         "orientation": "h",
         "type": "bar",
         "x": [
          0.30507904291152954,
          0.32076603174209595,
          0.34938135743141174,
          0.3572777509689331,
          0.434767484664917
         ],
         "xaxis": "x4",
         "y": [
          "felt  ",
          "novel  ",
          "life  ",
          "lived  ",
          "story  "
         ],
         "yaxis": "y4"
        },
        {
         "marker": {
          "color": "#56B4E9"
         },
         "orientation": "h",
         "type": "bar",
         "x": [
          0.2751607298851013,
          0.2867659330368042,
          0.28891339898109436,
          0.31927675008773804,
          0.4082227051258087
         ],
         "xaxis": "x5",
         "y": [
          "dear  ",
          "email  ",
          "regards  ",
          "sincerely  ",
          "letter  "
         ],
         "yaxis": "y5"
        },
        {
         "marker": {
          "color": "#009E73"
         },
         "orientation": "h",
         "type": "bar",
         "x": [
          0.20779909193515778,
          0.25969964265823364,
          0.30077362060546875,
          0.30365270376205444,
          0.5454283952713013
         ],
         "xaxis": "x6",
         "y": [
          "languages  ",
          "java  ",
          "programming  ",
          "haskell  ",
          "rust  "
         ],
         "yaxis": "y6"
        },
        {
         "marker": {
          "color": "#F0E442"
         },
         "orientation": "h",
         "type": "bar",
         "x": [
          0.1940920054912567,
          0.19577714800834656,
          0.21838892996311188,
          0.4541270434856415,
          0.5848696231842041
         ],
         "xaxis": "x7",
         "y": [
          "js  ",
          "div  ",
          "style  ",
          "html  ",
          "css  "
         ],
         "yaxis": "y7"
        },
        {
         "marker": {
          "color": "#D55E00"
         },
         "orientation": "h",
         "type": "bar",
         "x": [
          0.34382811188697815,
          0.3945315480232239,
          0.42394667863845825,
          0.4582844376564026,
          0.6055601239204407
         ],
         "xaxis": "x8",
         "y": [
          "install  ",
          "fedora  ",
          "debian  ",
          "ubuntu  ",
          "linux  "
         ],
         "yaxis": "y8"
        }
       ],
       "layout": {
        "annotations": [
         {
          "font": {
           "size": 16
          },
          "showarrow": false,
          "text": "Topic 0",
          "x": 0.0875,
          "xanchor": "center",
          "xref": "paper",
          "y": 1,
          "yanchor": "bottom",
          "yref": "paper"
         },
         {
          "font": {
           "size": 16
          },
          "showarrow": false,
          "text": "Topic 1",
          "x": 0.36250000000000004,
          "xanchor": "center",
          "xref": "paper",
          "y": 1,
          "yanchor": "bottom",
          "yref": "paper"
         },
         {
          "font": {
           "size": 16
          },
          "showarrow": false,
          "text": "Topic 2",
          "x": 0.6375000000000001,
          "xanchor": "center",
          "xref": "paper",
          "y": 1,
          "yanchor": "bottom",
          "yref": "paper"
         },
         {
          "font": {
           "size": 16
          },
          "showarrow": false,
          "text": "Topic 3",
          "x": 0.9125,
          "xanchor": "center",
          "xref": "paper",
          "y": 1,
          "yanchor": "bottom",
          "yref": "paper"
         },
         {
          "font": {
           "size": 16
          },
          "showarrow": false,
          "text": "Topic 4",
          "x": 0.0875,
          "xanchor": "center",
          "xref": "paper",
          "y": 0.4,
          "yanchor": "bottom",
          "yref": "paper"
         },
         {
          "font": {
           "size": 16
          },
          "showarrow": false,
          "text": "Topic 5",
          "x": 0.36250000000000004,
          "xanchor": "center",
          "xref": "paper",
          "y": 0.4,
          "yanchor": "bottom",
          "yref": "paper"
         },
         {
          "font": {
           "size": 16
          },
          "showarrow": false,
          "text": "Topic 6",
          "x": 0.6375000000000001,
          "xanchor": "center",
          "xref": "paper",
          "y": 0.4,
          "yanchor": "bottom",
          "yref": "paper"
         },
         {
          "font": {
           "size": 16
          },
          "showarrow": false,
          "text": "Topic 7",
          "x": 0.9125,
          "xanchor": "center",
          "xref": "paper",
          "y": 0.4,
          "yanchor": "bottom",
          "yref": "paper"
         }
        ],
        "height": 500,
        "hoverlabel": {
         "bgcolor": "white",
         "font": {
          "family": "Rockwell",
          "size": 16
         }
        },
        "showlegend": false,
        "template": {
         "data": {
          "bar": [
           {
            "error_x": {
             "color": "#2a3f5f"
            },
            "error_y": {
             "color": "#2a3f5f"
            },
            "marker": {
             "line": {
              "color": "white",
              "width": 0.5
             },
             "pattern": {
              "fillmode": "overlay",
              "size": 10,
              "solidity": 0.2
             }
            },
            "type": "bar"
           }
          ],
          "barpolar": [
           {
            "marker": {
             "line": {
              "color": "white",
              "width": 0.5
             },
             "pattern": {
              "fillmode": "overlay",
              "size": 10,
              "solidity": 0.2
             }
            },
            "type": "barpolar"
           }
          ],
          "carpet": [
           {
            "aaxis": {
             "endlinecolor": "#2a3f5f",
             "gridcolor": "#C8D4E3",
             "linecolor": "#C8D4E3",
             "minorgridcolor": "#C8D4E3",
             "startlinecolor": "#2a3f5f"
            },
            "baxis": {
             "endlinecolor": "#2a3f5f",
             "gridcolor": "#C8D4E3",
             "linecolor": "#C8D4E3",
             "minorgridcolor": "#C8D4E3",
             "startlinecolor": "#2a3f5f"
            },
            "type": "carpet"
           }
          ],
          "choropleth": [
           {
            "colorbar": {
             "outlinewidth": 0,
             "ticks": ""
            },
            "type": "choropleth"
           }
          ],
          "contour": [
           {
            "colorbar": {
             "outlinewidth": 0,
             "ticks": ""
            },
            "colorscale": [
             [
              0,
              "#0d0887"
             ],
             [
              0.1111111111111111,
              "#46039f"
             ],
             [
              0.2222222222222222,
              "#7201a8"
             ],
             [
              0.3333333333333333,
              "#9c179e"
             ],
             [
              0.4444444444444444,
              "#bd3786"
             ],
             [
              0.5555555555555556,
              "#d8576b"
             ],
             [
              0.6666666666666666,
              "#ed7953"
             ],
             [
              0.7777777777777778,
              "#fb9f3a"
             ],
             [
              0.8888888888888888,
              "#fdca26"
             ],
             [
              1,
              "#f0f921"
             ]
            ],
            "type": "contour"
           }
          ],
          "contourcarpet": [
           {
            "colorbar": {
             "outlinewidth": 0,
             "ticks": ""
            },
            "type": "contourcarpet"
           }
          ],
          "heatmap": [
           {
            "colorbar": {
             "outlinewidth": 0,
             "ticks": ""
            },
            "colorscale": [
             [
              0,
              "#0d0887"
             ],
             [
              0.1111111111111111,
              "#46039f"
             ],
             [
              0.2222222222222222,
              "#7201a8"
             ],
             [
              0.3333333333333333,
              "#9c179e"
             ],
             [
              0.4444444444444444,
              "#bd3786"
             ],
             [
              0.5555555555555556,
              "#d8576b"
             ],
             [
              0.6666666666666666,
              "#ed7953"
             ],
             [
              0.7777777777777778,
              "#fb9f3a"
             ],
             [
              0.8888888888888888,
              "#fdca26"
             ],
             [
              1,
              "#f0f921"
             ]
            ],
            "type": "heatmap"
           }
          ],
          "heatmapgl": [
           {
            "colorbar": {
             "outlinewidth": 0,
             "ticks": ""
            },
            "colorscale": [
             [
              0,
              "#0d0887"
             ],
             [
              0.1111111111111111,
              "#46039f"
             ],
             [
              0.2222222222222222,
              "#7201a8"
             ],
             [
              0.3333333333333333,
              "#9c179e"
             ],
             [
              0.4444444444444444,
              "#bd3786"
             ],
             [
              0.5555555555555556,
              "#d8576b"
             ],
             [
              0.6666666666666666,
              "#ed7953"
             ],
             [
              0.7777777777777778,
              "#fb9f3a"
             ],
             [
              0.8888888888888888,
              "#fdca26"
             ],
             [
              1,
              "#f0f921"
             ]
            ],
            "type": "heatmapgl"
           }
          ],
          "histogram": [
           {
            "marker": {
             "pattern": {
              "fillmode": "overlay",
              "size": 10,
              "solidity": 0.2
             }
            },
            "type": "histogram"
           }
          ],
          "histogram2d": [
           {
            "colorbar": {
             "outlinewidth": 0,
             "ticks": ""
            },
            "colorscale": [
             [
              0,
              "#0d0887"
             ],
             [
              0.1111111111111111,
              "#46039f"
             ],
             [
              0.2222222222222222,
              "#7201a8"
             ],
             [
              0.3333333333333333,
              "#9c179e"
             ],
             [
              0.4444444444444444,
              "#bd3786"
             ],
             [
              0.5555555555555556,
              "#d8576b"
             ],
             [
              0.6666666666666666,
              "#ed7953"
             ],
             [
              0.7777777777777778,
              "#fb9f3a"
             ],
             [
              0.8888888888888888,
              "#fdca26"
             ],
             [
              1,
              "#f0f921"
             ]
            ],
            "type": "histogram2d"
           }
          ],
          "histogram2dcontour": [
           {
            "colorbar": {
             "outlinewidth": 0,
             "ticks": ""
            },
            "colorscale": [
             [
              0,
              "#0d0887"
             ],
             [
              0.1111111111111111,
              "#46039f"
             ],
             [
              0.2222222222222222,
              "#7201a8"
             ],
             [
              0.3333333333333333,
              "#9c179e"
             ],
             [
              0.4444444444444444,
              "#bd3786"
             ],
             [
              0.5555555555555556,
              "#d8576b"
             ],
             [
              0.6666666666666666,
              "#ed7953"
             ],
             [
              0.7777777777777778,
              "#fb9f3a"
             ],
             [
              0.8888888888888888,
              "#fdca26"
             ],
             [
              1,
              "#f0f921"
             ]
            ],
            "type": "histogram2dcontour"
           }
          ],
          "mesh3d": [
           {
            "colorbar": {
             "outlinewidth": 0,
             "ticks": ""
            },
            "type": "mesh3d"
           }
          ],
          "parcoords": [
           {
            "line": {
             "colorbar": {
              "outlinewidth": 0,
              "ticks": ""
             }
            },
            "type": "parcoords"
           }
          ],
          "pie": [
           {
            "automargin": true,
            "type": "pie"
           }
          ],
          "scatter": [
           {
            "fillpattern": {
             "fillmode": "overlay",
             "size": 10,
             "solidity": 0.2
            },
            "type": "scatter"
           }
          ],
          "scatter3d": [
           {
            "line": {
             "colorbar": {
              "outlinewidth": 0,
              "ticks": ""
             }
            },
            "marker": {
             "colorbar": {
              "outlinewidth": 0,
              "ticks": ""
             }
            },
            "type": "scatter3d"
           }
          ],
          "scattercarpet": [
           {
            "marker": {
             "colorbar": {
              "outlinewidth": 0,
              "ticks": ""
             }
            },
            "type": "scattercarpet"
           }
          ],
          "scattergeo": [
           {
            "marker": {
             "colorbar": {
              "outlinewidth": 0,
              "ticks": ""
             }
            },
            "type": "scattergeo"
           }
          ],
          "scattergl": [
           {
            "marker": {
             "colorbar": {
              "outlinewidth": 0,
              "ticks": ""
             }
            },
            "type": "scattergl"
           }
          ],
          "scattermapbox": [
           {
            "marker": {
             "colorbar": {
              "outlinewidth": 0,
              "ticks": ""
             }
            },
            "type": "scattermapbox"
           }
          ],
          "scatterpolar": [
           {
            "marker": {
             "colorbar": {
              "outlinewidth": 0,
              "ticks": ""
             }
            },
            "type": "scatterpolar"
           }
          ],
          "scatterpolargl": [
           {
            "marker": {
             "colorbar": {
              "outlinewidth": 0,
              "ticks": ""
             }
            },
            "type": "scatterpolargl"
           }
          ],
          "scatterternary": [
           {
            "marker": {
             "colorbar": {
              "outlinewidth": 0,
              "ticks": ""
             }
            },
            "type": "scatterternary"
           }
          ],
          "surface": [
           {
            "colorbar": {
             "outlinewidth": 0,
             "ticks": ""
            },
            "colorscale": [
             [
              0,
              "#0d0887"
             ],
             [
              0.1111111111111111,
              "#46039f"
             ],
             [
              0.2222222222222222,
              "#7201a8"
             ],
             [
              0.3333333333333333,
              "#9c179e"
             ],
             [
              0.4444444444444444,
              "#bd3786"
             ],
             [
              0.5555555555555556,
              "#d8576b"
             ],
             [
              0.6666666666666666,
              "#ed7953"
             ],
             [
              0.7777777777777778,
              "#fb9f3a"
             ],
             [
              0.8888888888888888,
              "#fdca26"
             ],
             [
              1,
              "#f0f921"
             ]
            ],
            "type": "surface"
           }
          ],
          "table": [
           {
            "cells": {
             "fill": {
              "color": "#EBF0F8"
             },
             "line": {
              "color": "white"
             }
            },
            "header": {
             "fill": {
              "color": "#C8D4E3"
             },
             "line": {
              "color": "white"
             }
            },
            "type": "table"
           }
          ]
         },
         "layout": {
          "annotationdefaults": {
           "arrowcolor": "#2a3f5f",
           "arrowhead": 0,
           "arrowwidth": 1
          },
          "autotypenumbers": "strict",
          "coloraxis": {
           "colorbar": {
            "outlinewidth": 0,
            "ticks": ""
           }
          },
          "colorscale": {
           "diverging": [
            [
             0,
             "#8e0152"
            ],
            [
             0.1,
             "#c51b7d"
            ],
            [
             0.2,
             "#de77ae"
            ],
            [
             0.3,
             "#f1b6da"
            ],
            [
             0.4,
             "#fde0ef"
            ],
            [
             0.5,
             "#f7f7f7"
            ],
            [
             0.6,
             "#e6f5d0"
            ],
            [
             0.7,
             "#b8e186"
            ],
            [
             0.8,
             "#7fbc41"
            ],
            [
             0.9,
             "#4d9221"
            ],
            [
             1,
             "#276419"
            ]
           ],
           "sequential": [
            [
             0,
             "#0d0887"
            ],
            [
             0.1111111111111111,
             "#46039f"
            ],
            [
             0.2222222222222222,
             "#7201a8"
            ],
            [
             0.3333333333333333,
             "#9c179e"
            ],
            [
             0.4444444444444444,
             "#bd3786"
            ],
            [
             0.5555555555555556,
             "#d8576b"
            ],
            [
             0.6666666666666666,
             "#ed7953"
            ],
            [
             0.7777777777777778,
             "#fb9f3a"
            ],
            [
             0.8888888888888888,
             "#fdca26"
            ],
            [
             1,
             "#f0f921"
            ]
           ],
           "sequentialminus": [
            [
             0,
             "#0d0887"
            ],
            [
             0.1111111111111111,
             "#46039f"
            ],
            [
             0.2222222222222222,
             "#7201a8"
            ],
            [
             0.3333333333333333,
             "#9c179e"
            ],
            [
             0.4444444444444444,
             "#bd3786"
            ],
            [
             0.5555555555555556,
             "#d8576b"
            ],
            [
             0.6666666666666666,
             "#ed7953"
            ],
            [
             0.7777777777777778,
             "#fb9f3a"
            ],
            [
             0.8888888888888888,
             "#fdca26"
            ],
            [
             1,
             "#f0f921"
            ]
           ]
          },
          "colorway": [
           "#636efa",
           "#EF553B",
           "#00cc96",
           "#ab63fa",
           "#FFA15A",
           "#19d3f3",
           "#FF6692",
           "#B6E880",
           "#FF97FF",
           "#FECB52"
          ],
          "font": {
           "color": "#2a3f5f"
          },
          "geo": {
           "bgcolor": "white",
           "lakecolor": "white",
           "landcolor": "white",
           "showlakes": true,
           "showland": true,
           "subunitcolor": "#C8D4E3"
          },
          "hoverlabel": {
           "align": "left"
          },
          "hovermode": "closest",
          "mapbox": {
           "style": "light"
          },
          "paper_bgcolor": "white",
          "plot_bgcolor": "white",
          "polar": {
           "angularaxis": {
            "gridcolor": "#EBF0F8",
            "linecolor": "#EBF0F8",
            "ticks": ""
           },
           "bgcolor": "white",
           "radialaxis": {
            "gridcolor": "#EBF0F8",
            "linecolor": "#EBF0F8",
            "ticks": ""
           }
          },
          "scene": {
           "xaxis": {
            "backgroundcolor": "white",
            "gridcolor": "#DFE8F3",
            "gridwidth": 2,
            "linecolor": "#EBF0F8",
            "showbackground": true,
            "ticks": "",
            "zerolinecolor": "#EBF0F8"
           },
           "yaxis": {
            "backgroundcolor": "white",
            "gridcolor": "#DFE8F3",
            "gridwidth": 2,
            "linecolor": "#EBF0F8",
            "showbackground": true,
            "ticks": "",
            "zerolinecolor": "#EBF0F8"
           },
           "zaxis": {
            "backgroundcolor": "white",
            "gridcolor": "#DFE8F3",
            "gridwidth": 2,
            "linecolor": "#EBF0F8",
            "showbackground": true,
            "ticks": "",
            "zerolinecolor": "#EBF0F8"
           }
          },
          "shapedefaults": {
           "line": {
            "color": "#2a3f5f"
           }
          },
          "ternary": {
           "aaxis": {
            "gridcolor": "#DFE8F3",
            "linecolor": "#A2B1C6",
            "ticks": ""
           },
           "baxis": {
            "gridcolor": "#DFE8F3",
            "linecolor": "#A2B1C6",
            "ticks": ""
           },
           "bgcolor": "white",
           "caxis": {
            "gridcolor": "#DFE8F3",
            "linecolor": "#A2B1C6",
            "ticks": ""
           }
          },
          "title": {
           "x": 0.05
          },
          "xaxis": {
           "automargin": true,
           "gridcolor": "#EBF0F8",
           "linecolor": "#EBF0F8",
           "ticks": "",
           "title": {
            "standoff": 15
           },
           "zerolinecolor": "#EBF0F8",
           "zerolinewidth": 2
          },
          "yaxis": {
           "automargin": true,
           "gridcolor": "#EBF0F8",
           "linecolor": "#EBF0F8",
           "ticks": "",
           "title": {
            "standoff": 15
           },
           "zerolinecolor": "#EBF0F8",
           "zerolinewidth": 2
          }
         }
        },
        "title": {
         "font": {
          "color": "Black",
          "size": 22
         },
         "text": "Topic Word Scores",
         "x": 0.5,
         "xanchor": "center",
         "yanchor": "top"
        },
        "width": 1000,
        "xaxis": {
         "anchor": "y",
         "domain": [
          0,
          0.175
         ],
         "showgrid": true
        },
        "xaxis2": {
         "anchor": "y2",
         "domain": [
          0.275,
          0.45
         ],
         "showgrid": true
        },
        "xaxis3": {
         "anchor": "y3",
         "domain": [
          0.55,
          0.7250000000000001
         ],
         "showgrid": true
        },
        "xaxis4": {
         "anchor": "y4",
         "domain": [
          0.825,
          1
         ],
         "showgrid": true
        },
        "xaxis5": {
         "anchor": "y5",
         "domain": [
          0,
          0.175
         ],
         "showgrid": true
        },
        "xaxis6": {
         "anchor": "y6",
         "domain": [
          0.275,
          0.45
         ],
         "showgrid": true
        },
        "xaxis7": {
         "anchor": "y7",
         "domain": [
          0.55,
          0.7250000000000001
         ],
         "showgrid": true
        },
        "xaxis8": {
         "anchor": "y8",
         "domain": [
          0.825,
          1
         ],
         "showgrid": true
        },
        "yaxis": {
         "anchor": "x",
         "domain": [
          0.6000000000000001,
          1
         ],
         "showgrid": true
        },
        "yaxis2": {
         "anchor": "x2",
         "domain": [
          0.6000000000000001,
          1
         ],
         "showgrid": true
        },
        "yaxis3": {
         "anchor": "x3",
         "domain": [
          0.6000000000000001,
          1
         ],
         "showgrid": true
        },
        "yaxis4": {
         "anchor": "x4",
         "domain": [
          0.6000000000000001,
          1
         ],
         "showgrid": true
        },
        "yaxis5": {
         "anchor": "x5",
         "domain": [
          0,
          0.4
         ],
         "showgrid": true
        },
        "yaxis6": {
         "anchor": "x6",
         "domain": [
          0,
          0.4
         ],
         "showgrid": true
        },
        "yaxis7": {
         "anchor": "x7",
         "domain": [
          0,
          0.4
         ],
         "showgrid": true
        },
        "yaxis8": {
         "anchor": "x8",
         "domain": [
          0,
          0.4
         ],
         "showgrid": true
        }
       }
      }
     },
     "metadata": {},
     "output_type": "display_data"
    }
   ],
   "source": [
    "from bertopic import BERTopic\n",
    "\n",
    "df = top_posts_preview.copy()\n",
    "docs = df.Description.to_list()\n",
    "model = BERTopic.load(\"davanstrien/chat_topics\")\n",
    "topics, probabilities = model.transform(docs)\n",
    "\n",
    "model.visualize_barchart()\n"
   ]
  },
  {
   "cell_type": "code",
   "execution_count": 71,
   "metadata": {},
   "outputs": [
    {
     "data": {
      "text/plain": [
       "'Behind every Formula One (#F1) car tearing up the circuit at 250 mph is a team of engineers and scientists competing to wrangle every advantage, leveraging the… | 15 comments on LinkedIn'"
      ]
     },
     "execution_count": 71,
     "metadata": {},
     "output_type": "execute_result"
    }
   ],
   "source": [
    "df.Description[1]"
   ]
  },
  {
   "cell_type": "code",
   "execution_count": 79,
   "metadata": {},
   "outputs": [
    {
     "data": {
      "text/html": [
       "<div>\n",
       "<style scoped>\n",
       "    .dataframe tbody tr th:only-of-type {\n",
       "        vertical-align: middle;\n",
       "    }\n",
       "\n",
       "    .dataframe tbody tr th {\n",
       "        vertical-align: top;\n",
       "    }\n",
       "\n",
       "    .dataframe thead th {\n",
       "        text-align: right;\n",
       "    }\n",
       "</style>\n",
       "<table border=\"1\" class=\"dataframe\">\n",
       "  <thead>\n",
       "    <tr style=\"text-align: right;\">\n",
       "      <th></th>\n",
       "      <th>Post URL</th>\n",
       "      <th>Post publish date</th>\n",
       "      <th>Engagements</th>\n",
       "      <th>Impressions</th>\n",
       "      <th>Title</th>\n",
       "      <th>Description</th>\n",
       "      <th>Thumbnail</th>\n",
       "      <th>Topics</th>\n",
       "    </tr>\n",
       "  </thead>\n",
       "  <tbody>\n",
       "    <tr>\n",
       "      <th>0</th>\n",
       "      <td>https://www.linkedin.com/feed/update/urn:li:ac...</td>\n",
       "      <td>7/17/2023</td>\n",
       "      <td>835</td>\n",
       "      <td>7548</td>\n",
       "      <td>KT Moore on LinkedIn: #honoredandgrateful #dei...</td>\n",
       "      <td>I want to express my heartfelt thanks to SEMI ...</td>\n",
       "      <td>https://media.licdn.com/dms/image/D5610AQGkQ-Y...</td>\n",
       "      <td>DEIB Recognition, Gratitude, SEMI Honor, Shapi...</td>\n",
       "    </tr>\n",
       "    <tr>\n",
       "      <th>1</th>\n",
       "      <td>https://www.linkedin.com/feed/update/urn:li:ac...</td>\n",
       "      <td>8/9/2023</td>\n",
       "      <td>530</td>\n",
       "      <td>57830</td>\n",
       "      <td>KT Moore on LinkedIn: How Artificial Intellige...</td>\n",
       "      <td>Behind every Formula One (#F1) car tearing up ...</td>\n",
       "      <td>https://media.licdn.com/dms/image/sync/D5627AQ...</td>\n",
       "      <td>Engineering Excellence, Team Collaboration, Hi...</td>\n",
       "    </tr>\n",
       "    <tr>\n",
       "      <th>2</th>\n",
       "      <td>https://www.linkedin.com/feed/update/urn:li:ac...</td>\n",
       "      <td>12/24/2023</td>\n",
       "      <td>511</td>\n",
       "      <td>10631</td>\n",
       "      <td>KT Moore on LinkedIn: #holidayseason #happyhol...</td>\n",
       "      <td>As the year comes to a close, let&amp;#39;s expres...</td>\n",
       "      <td>https://media.licdn.com/dms/image/D5622AQGAiid...</td>\n",
       "      <td>Gratitude, Reflection, Growth, Appreciation, N...</td>\n",
       "    </tr>\n",
       "    <tr>\n",
       "      <th>3</th>\n",
       "      <td>https://www.linkedin.com/feed/update/urn:li:ac...</td>\n",
       "      <td>6/1/2023</td>\n",
       "      <td>405</td>\n",
       "      <td>8802</td>\n",
       "      <td>KT Moore on LinkedIn: #innovation #intelligent...</td>\n",
       "      <td>Excited to be part of this morning’s opening b...</td>\n",
       "      <td>https://media.licdn.com/dms/image/D5622AQEhpM_...</td>\n",
       "      <td>Nasdaq Ceremony, CEO Devgan, Trading, Cadence ...</td>\n",
       "    </tr>\n",
       "    <tr>\n",
       "      <th>4</th>\n",
       "      <td>https://www.linkedin.com/feed/update/urn:li:ac...</td>\n",
       "      <td>11/23/2023</td>\n",
       "      <td>337</td>\n",
       "      <td>10124</td>\n",
       "      <td>KT Moore on LinkedIn: #thanksgiving2023 #thank...</td>\n",
       "      <td>This Thanksgiving, I encourage you to not only...</td>\n",
       "      <td>https://media.licdn.com/dms/image/D5610AQEH9et...</td>\n",
       "      <td>Gratitude, Community, Compassion, Inclusivity,...</td>\n",
       "    </tr>\n",
       "  </tbody>\n",
       "</table>\n",
       "</div>"
      ],
      "text/plain": [
       "                                            Post URL Post publish date  \\\n",
       "0  https://www.linkedin.com/feed/update/urn:li:ac...         7/17/2023   \n",
       "1  https://www.linkedin.com/feed/update/urn:li:ac...          8/9/2023   \n",
       "2  https://www.linkedin.com/feed/update/urn:li:ac...        12/24/2023   \n",
       "3  https://www.linkedin.com/feed/update/urn:li:ac...          6/1/2023   \n",
       "4  https://www.linkedin.com/feed/update/urn:li:ac...        11/23/2023   \n",
       "\n",
       "  Engagements Impressions                                              Title  \\\n",
       "0         835        7548  KT Moore on LinkedIn: #honoredandgrateful #dei...   \n",
       "1         530       57830  KT Moore on LinkedIn: How Artificial Intellige...   \n",
       "2         511       10631  KT Moore on LinkedIn: #holidayseason #happyhol...   \n",
       "3         405        8802  KT Moore on LinkedIn: #innovation #intelligent...   \n",
       "4         337       10124  KT Moore on LinkedIn: #thanksgiving2023 #thank...   \n",
       "\n",
       "                                         Description  \\\n",
       "0  I want to express my heartfelt thanks to SEMI ...   \n",
       "1  Behind every Formula One (#F1) car tearing up ...   \n",
       "2  As the year comes to a close, let&#39;s expres...   \n",
       "3  Excited to be part of this morning’s opening b...   \n",
       "4  This Thanksgiving, I encourage you to not only...   \n",
       "\n",
       "                                           Thumbnail  \\\n",
       "0  https://media.licdn.com/dms/image/D5610AQGkQ-Y...   \n",
       "1  https://media.licdn.com/dms/image/sync/D5627AQ...   \n",
       "2  https://media.licdn.com/dms/image/D5622AQGAiid...   \n",
       "3  https://media.licdn.com/dms/image/D5622AQEhpM_...   \n",
       "4  https://media.licdn.com/dms/image/D5610AQEH9et...   \n",
       "\n",
       "                                              Topics  \n",
       "0  DEIB Recognition, Gratitude, SEMI Honor, Shapi...  \n",
       "1  Engineering Excellence, Team Collaboration, Hi...  \n",
       "2  Gratitude, Reflection, Growth, Appreciation, N...  \n",
       "3  Nasdaq Ceremony, CEO Devgan, Trading, Cadence ...  \n",
       "4  Gratitude, Community, Compassion, Inclusivity,...  "
      ]
     },
     "execution_count": 79,
     "metadata": {},
     "output_type": "execute_result"
    }
   ],
   "source": [
    "from openai import OpenAI\n",
    "\n",
    "client = OpenAI()\n",
    "\n",
    "def get_completion(prompt, model=\"gpt-3.5-turbo\"):\n",
    "    messages = [{\"role\":\"system\", \"content\":'You are a topic modelling system',},\n",
    "                {\"role\":\"user\", \"content\": prompt}]\n",
    "    response = client.chat.completions.create(model=model,messages=messages, temperature=0, )\n",
    "    return response.choices[0].message.content\n",
    "\n",
    "for index, row in top_posts_preview.iterrows():\n",
    "    prompt = f\"\"\"\n",
    "    Suggest up to five single or two-word topics for a social media post related to {row['Description']}. Print them in one line separted by a comma.\n",
    "    \"\"\"\n",
    "    response = get_completion(prompt)\n",
    "\n",
    "    # Assuming you want to update a new column named 'Topics' in the DataFrame\n",
    "    top_posts_preview.at[index, 'Topics'] = response\n",
    "\n",
    "top_posts_preview.head()"
   ]
  },
  {
   "cell_type": "markdown",
   "metadata": {},
   "source": [
    "# Dash"
   ]
  },
  {
   "cell_type": "code",
   "execution_count": 12,
   "metadata": {},
   "outputs": [
    {
     "data": {
      "text/html": [
       "\n",
       "        <iframe\n",
       "            width=\"100%\"\n",
       "            height=\"650\"\n",
       "            src=\"http://127.0.0.1:8050/\"\n",
       "            frameborder=\"0\"\n",
       "            allowfullscreen\n",
       "            \n",
       "        ></iframe>\n",
       "        "
      ],
      "text/plain": [
       "<IPython.lib.display.IFrame at 0x1ea304f2310>"
      ]
     },
     "metadata": {},
     "output_type": "display_data"
    }
   ],
   "source": [
    "from dash import Dash, html, dcc, callback_context\n",
    "import plotly.express as px\n",
    "import dash_bootstrap_components as dbc\n",
    "from dash.dependencies import Input, Output\n",
    "from datetime import timedelta\n",
    "\n",
    "# Assuming 'data' is defined and contains the required DataFrame\n",
    "\n",
    "\n",
    "total_engagements = engagements['Engagements'].sum()\n",
    "total_impressions = engagements['Impressions'].sum()\n",
    "engagement_rate = (total_engagements/total_impressions)*100\n",
    "emv = (engagement_rate*total_impressions*6.59)/100\n",
    "optimal_day = engagements_by_day.loc[0, 'DayOfWeek']\n",
    "data = top_posts_preview.sort_values(by='Engagements', ascending=False).reset_index(drop=True)\n",
    "\n",
    "app = Dash(__name__, external_stylesheets=[dbc.themes.BOOTSTRAP])\n",
    "app.title = 'LinkedIn Analytics'\n",
    "\n",
    "\n",
    "app.layout = html.Div([\n",
    "    html.Img(src='./assets/logo1.png',style={'width':'100px', 'margin-top': '20px', 'margin-left': '100px', 'margin-right': '100px'}),\n",
    "    html.H1(\"LinkedIn Analytics Dashboard\", style={'text-align': 'center', 'color': 'black', 'font-family': 'Arial, sans-serif'}),\n",
    "    dcc.Markdown('**Choose a date range:** ', style={'margin-top': '20px', 'margin-left': '100px', 'margin-right': '100px',}),\n",
    "    dcc.DatePickerRange(\n",
    "        id='date-picker-range',\n",
    "        min_date_allowed=engagements['Date'].min(),\n",
    "        max_date_allowed=engagements['Date'].max(),\n",
    "        initial_visible_month=engagements['Date'].max(),\n",
    "        start_date=engagements['Date'].min(),\n",
    "        end_date=engagements['Date'].max(),\n",
    "        style={'margin-top': '0px', 'margin-left': '100px', 'margin-right': '100px',}),\n",
    "    dbc.Row([ \n",
    "        dcc.Markdown('**Overview** ', style={'margin-top': '20px', 'margin-left': '100px', 'margin-right': '100px', 'text-decoration': 'underline'}),\n",
    "        html.Div([\n",
    "            html.Div(html.Img(src='./assets/impression.png', style={'width': '50px', 'alignSelf': 'left','margin-right': '0px'})),\n",
    "            html.Div(id='impressions', children=f'Impressions: {total_impressions}', style={ 'text-align': 'center', 'margin-top': '20px', 'color': 'black', 'font-family':'Helvetica Black'})\n",
    "            ], style={'display': 'flex', 'align-items': 'center', 'justify-content': 'center', 'width': '200px', 'height': '100px', \n",
    "                  'background-color': 'white', 'margin-top': '0px', 'border-radius': '10px','margin-right': '20px', 'margin-left':'100px',  'border': '1px solid #ccc', 'box-shadow': '2px 2px 5px #888888'}),\n",
    "        html.Div([\n",
    "            html.Div(html.Img(src='./assets/engagement-icon.png', style={'width': '50px', 'alignSelf': 'left','margin-right': '0px'})),\n",
    "            html.Div(id='engagements', children=f'Engagements: {total_engagements}', style={ 'text-align': 'center', 'margin-top': '20px', 'color': 'black', 'font-family':'Helvetica Black'})\n",
    "            ], style={'display': 'flex', 'align-items': 'center', 'justify-content': 'center', 'width': '200px', 'height': '100px', \n",
    "                  'background-color': 'white', 'margin-top': '0px', 'border-radius': '10px','margin-right': '20px', 'margin-left':'100px',  'border': '1px solid #ccc', 'box-shadow': '2px 2px 5px #888888'}),\n",
    "        html.Div([\n",
    "            html.Div(html.Img(src='./assets/engagement.png', style={'width': '50px', 'alignSelf': 'left'})),\n",
    "            html.Div(id='engagement_rate', children=f'Engagement Rate: {engagement_rate:.2f}%', style={'text-align': 'center', 'margin-left': '20px', 'color': 'black','font-family': 'Helvetica Black'})\n",
    "            ], style={'display': 'flex', 'align-items': 'center', 'justify-content': 'center', 'width': '200px', 'height': '100px', \n",
    "                  'background-color': 'white', 'margin-top': '0px', 'border-radius': '10px', 'margin-right': '20px', 'margin-left':'20px',  'border': '1px solid #ccc', 'box-shadow': '2px 2px 5px #888888'}),\n",
    "\n",
    "        html.Div([\n",
    "            html.Div(html.Img(src='./assets/like.png', style={'width': '50px', 'alignSelf': 'left'})),\n",
    "            html.Div(id='emv_value', children=f'Earned Media Value: {emv:.2f}%', style={'text-align': 'center', 'margin-left': '20px', 'color': 'black', 'font-family': 'Helvetica Black'})\n",
    "            ], style={'display': 'flex', 'align-items': 'center', 'justify-content': 'center', 'width': '200px', 'height': '100px', \n",
    "                  'background-color': 'white', 'margin-top': '0px', 'border-radius': '10px', 'margin-right': '20px', 'margin-left':'20px',  'border': '1px solid #ccc', 'box-shadow': '2px 2px 5px #888888'}),\n",
    "        \n",
    "        html.Div([\n",
    "            html.Div(html.Img(src='./assets/followers.png', style={'width': '50px', 'alignSelf': 'left', 'margin-right': '50px'})),\n",
    "            html.Div(id='followers', children=['Followers', html.Br(), html.B(\"{:,.0f}\".format(total_followers), style={'text-align': 'center', 'margin-left': '20px','color':'black', 'font-size':'20px', 'margin-top':'40px', 'font-family':'Arial Black' })])\n",
    "            ], style={'display': 'flex', 'align-items': 'center', 'justify-content': 'center', 'width': '200px', 'height': '100px', \n",
    "                  'background-color': 'white', 'margin-top': '0px', 'border-radius': '10px', 'margin-right': '20px', 'margin-left':'20px',  'border': '1px solid #ccc', 'box-shadow': '2px 2px 5px #888888'}),\n",
    "    ]),\n",
    "\n",
    "    dbc.Row([\n",
    "        dcc.Markdown('**Follower Growth Trend** ', style={'margin-top': '40px', 'margin-left': '100px', 'margin-right': '100px', 'text-decoration': 'underline'}),\n",
    "        html.P('Follower Growth shows the increase in the number of your followers. ', style={'margin-left': '100px', 'margin-right': '100px'}),\n",
    "\n",
    "        dcc.Graph(\n",
    "            figure=px.line(monthly_followers, x='YearMonth', y='New followers', color_discrete_sequence=['#b51a00'],  markers=True),\n",
    "            style= {'width':'800px', 'height':'500px','margin-top': '0px', 'margin-right': '20px', 'Margin-left':'100px'},\n",
    "        ),\n",
    "\n",
    "        dbc.Row([\n",
    "            dcc.Dropdown(\n",
    "                id='audience-dropdown',\n",
    "                options=[\n",
    "                    {'label': 'Job titles', 'value': 'Job titles'},\n",
    "                    {'label': 'Locations', 'value': 'Locations'},\n",
    "                    {'label': 'Industries', 'value': 'Industries'},\n",
    "                    {'label': 'Seniority', 'value': 'Seniority'},\n",
    "                    {'label': 'Company size', 'value': 'Company size'},\n",
    "                    {'label': 'Companies', 'value': 'Companies'},\n",
    "                ],\n",
    "                value='Job titles',  \n",
    "                style={'margin-top': '0px', 'width': '200px', 'margin-left': '40px', 'margin-right': '100px'}), \n",
    "\n",
    "            dcc.Graph(\n",
    "                id='audience-graph',\n",
    "                figure = px.bar(demographics[demographics['Top Demographics'] == 'Industries'], x='Percentage', y='Value', title=f'Top Industries by Percentage', labels={'Percentage': 'Percentage (%)', 'Value': 'Top Values'}).update_layout(plot_bgcolor='white'),\n",
    "                style= {'height':'400px','margin-top': '0px', 'margin-right': '20px', 'Margin-left':'100px',})\n",
    "                ], style= {'width':'500px','height':'400px','margin-top': '0px', 'margin-right': '20px', 'Margin-left':'10px'}),\n",
    "    ]),\n",
    "\n",
    "    dbc.Row([\n",
    "        dcc.Markdown('**Reach/Reactions Trend** ', style={'margin-top': '40px', 'margin-left': '100px', 'margin-right': '100px', 'text-decoration': 'underline'}),\n",
    "        html.P('Follower Growth shows the increase in the number of your followers. ', style={'margin-left': '100px', 'margin-right': '100px'}),\n",
    "        dcc.Dropdown(\n",
    "            id='variable-dropdown',\n",
    "            options=[\n",
    "                {'label': 'Engagements', 'value': 'Engagements'},\n",
    "                {'label': 'Impressions', 'value': 'Impressions'},\n",
    "                {'label': 'Engagement Rate', 'value': 'EngagementRate'},\n",
    "            ],\n",
    "            value='Engagements',\n",
    "            style={'margin-top': '0px', 'width':'200px','margin-left': '40px', 'margin-right': '100px'}),\n",
    "\n",
    "        dbc.Row([    \n",
    "            dcc.Graph(\n",
    "                id='engagements-graph',\n",
    "                figure=px.line(engagements, x='Date', y='Impressions', color_discrete_sequence=['#b51a00']),\n",
    "                style={'width':'1000px','height':'500px','margin-top': '0px', 'margin-right': '0px', 'Margin-left':'10px',}),\n",
    "            \n",
    "            dbc.Row([\n",
    "                dcc.Graph(\n",
    "                    id='optimal-graph',\n",
    "                    figure=px.histogram(engagements_by_day, x='DayOfWeek', y='Engagements'),\n",
    "                    style={'width':'500px','height':'250px','margin-top': '0px', 'margin-right': '20px', 'Margin-left':'0px'}),\n",
    "\n",
    "                html.Div([ \n",
    "                    html.B('What is the best day of week to post? \\n', style={'margin-top': '0px', 'margin-right': '20px', 'Margin-left':'100px','text-align': 'center', 'color': 'gray', 'font-family': 'Helvetica Neue'}),\n",
    "                    html.B(id ='best-day', children='Reach or Engagement', style={'margin-top': '20px', 'margin-right': '10px', 'font-size':'20px','Margin-left':'10px','align-self': 'center', 'color': 'black', 'font-family': 'Helvetica Neue'}),\n",
    "                    html.P(id ='optimal-days',children=[\"Optimal days:\", html.B(optimal_day, style={'font-size':'1000px'})], style={'margin-top': '10px', 'margin-right': '20px', 'Margin-left':'10px', 'color': 'Black', 'font-family': 'Arial, sans-serif'})],\n",
    "                    style={'width':'400px','height':'200px','margin-top': '0px', 'margin-right': '20px', 'Margin-left':'10px'})\n",
    "            ], style = {'width':'500px',})\n",
    "        ]),  \n",
    "    ]),\n",
    "\n",
    "\n",
    "    dcc.Dropdown(\n",
    "        id='posts-dropdown',\n",
    "        options=[\n",
    "            {'label': 'Top engaging posts', 'value': 'Top engaging posts'},\n",
    "            {'label': 'Top posts by reach', 'value': 'Top posts by reach'},\n",
    "        ],\n",
    "        value='Top engaging posts',  \n",
    "        style={'margin-top': '20px', 'width': '400px', 'margin-left': '40px', 'margin-right': '100px'}),\n",
    "\n",
    "\n",
    "    dbc.Table(id = 'top-posts-preview',\n",
    "        children=[\n",
    "            html.Tr([\n",
    "                html.Th(\"Published on\"),\n",
    "                html.Th(\"Posts\"),\n",
    "                html.Th(\"\"),\n",
    "                html.Th(\"Impressions\"),\n",
    "                html.Th(\"Reactions\"),\n",
    "                html.Th(\"Post Link\"),\n",
    "                html.Th(\"Topics\"),\n",
    "            ], style={'background-color': 'lightgray'}),  # Header row styling\n",
    "        ] +\n",
    "        # Rows\n",
    "        [html.Tr([\n",
    "            html.Td(row['Post publish date'], style={'width':'200px', 'margin-left': '10px'}),\n",
    "            html.Td(html.Img(src=row['Thumbnail'], height=100) if row['Thumbnail'] else html.P('Thumbnail not found.')),\n",
    "            html.Td(row['Description'],style={'width':'800px', 'margin-left': '10px'}),\n",
    "            html.Td(row['Impressions'], style={'width':'200px', 'margin-left': '10px'}),\n",
    "            html.Td(row['Engagements'],style={'width':'200px',}),\n",
    "            html.Td(html.A(\"View on LI\", href=row['Post URL']), style={'width':'200px',}),\n",
    "            html.Td(row['Topics'],style={'width':'300px',}),\n",
    "        ], style={'border-bottom': '1px solid gray', 'padding': '10px','width':'1700px'}) for _, row in data.iterrows()],\n",
    "        bordered=True,\n",
    "        responsive=True,\n",
    "        striped=True,\n",
    "        hover=True,\n",
    "        style={'margin': '20px', 'width': '100%'}  # Overall table styling\n",
    "    ),  \n",
    "\n",
    "], style = {'width':'1800px'})\n",
    "\n",
    "def calculate_percentage_change(current_value, previous_value):\n",
    "    if previous_value != 0:\n",
    "        return round(((current_value - previous_value) / previous_value) * 100, 2)\n",
    "    else:\n",
    "        return 0\n",
    "@app.callback(\n",
    "    Output('engagements', 'children'),\n",
    "    [Input('date-picker-range', 'start_date'),\n",
    "     Input('date-picker-range', 'end_date')]\n",
    ")\n",
    "def update_engagements(start_date, end_date):\n",
    "    filtered_engagements = engagements[(engagements['Date'] >= start_date) & (engagements['Date'] <= end_date)]\n",
    "    total_engagements = filtered_engagements['Engagements'].sum()\n",
    "    # Calculate previous period start and end dates based on selected period\n",
    "    selected_period_start = pd.to_datetime(start_date)\n",
    "    selected_period_end = pd.to_datetime(end_date)\n",
    "    previous_period_start = selected_period_start - (selected_period_end - selected_period_start)\n",
    "    previous_period_end = selected_period_start - timedelta(days=1)  # End 1 day before the selected period start\n",
    "    \n",
    "    # Filter engagements for previous period\n",
    "    previous_period_engagements = engagements[(engagements['Date'] >= previous_period_start) & (engagements['Date'] <= previous_period_end)]\n",
    "    previous_period_total_engagements = previous_period_engagements['Engagements'].sum()\n",
    "    \n",
    "    percentage_change = calculate_percentage_change(total_engagements, previous_period_total_engagements)\n",
    "    if percentage_change < 0:\n",
    "        return ['Engagements ',html.Br(), html.B(\"{:,.0f}\".format(total_engagements), style= {'color':'black', 'font-size':'20px', 'margin-top':'40px', 'font-family':'Arial Black' }), html.Br(),  html.P(f\"{percentage_change}%\", style= {'width':'100px','display': 'flex', 'align-items': 'center', 'justify-content': 'center',\n",
    "                  'background-color': 'white', 'margin-top': '20px', 'border-radius': '10px', 'margin-right': '20px', 'margin-left':'20px', 'font-size':'12px', 'color':'red'}) ]\n",
    "    elif percentage_change > 0:\n",
    "        return ['Engagements ',html.Br(), html.B(\"{:,.0f}\".format(total_engagements), style= {'color':'black', 'font-size':'20px', 'margin-top':'40px', 'font-family':'Arial Black' }), html.Br(),  html.P(f\"{percentage_change}%\", style= {'width':'100px','display': 'flex', 'align-items': 'center', 'justify-content': 'center',\n",
    "            'background-color': 'white', 'margin-top': '20px', 'border-radius': '10px', 'margin-right': '20px', 'margin-left':'20px', 'font-size':'12px', 'color':'green'}) ]\n",
    "    else:\n",
    "        return ['Engagements ',html.Br(), html.B(\"{:,.0f}\".format(total_engagements), style= {'color':'black', 'font-size':'20px', 'margin-top':'40px', 'font-family':'Arial Black' }), html.Br(),  html.P('No change', style= {'width':'100px','display': 'flex', 'align-items': 'center', 'justify-content': 'center',\n",
    "            'background-color': 'lightgrey', 'margin-top': '20px', 'border-radius': '10px', 'margin-right': '20px', 'margin-left':'20px', 'font-size':'12px',  'color':'green',}) ]\n",
    "    \n",
    "@app.callback(\n",
    "    Output('impressions', 'children'),\n",
    "    [Input('date-picker-range', 'start_date'),\n",
    "     Input('date-picker-range', 'end_date')]\n",
    ")    \n",
    "def update_impressions(start_date, end_date):\n",
    "    filtered_impressions = engagements[(engagements['Date'] >= start_date) & (engagements['Date'] <= end_date)]\n",
    "    total_impressions = filtered_impressions['Impressions'].sum()\n",
    "        # Calculate previous period start and end dates based on selected period\n",
    "    selected_period_start = pd.to_datetime(start_date)\n",
    "    selected_period_end = pd.to_datetime(end_date)\n",
    "    previous_period_start = selected_period_start - (selected_period_end - selected_period_start)\n",
    "    previous_period_end = selected_period_start - timedelta(days=1)  # End 1 day before the selected period start\n",
    "    \n",
    "    # Filter engagements for previous period\n",
    "    previous_period_impressions = engagements[(engagements['Date'] >= previous_period_start) & (engagements['Date'] <= previous_period_end)]\n",
    "    previous_period_total_impressions = previous_period_impressions['Impressions'].sum()\n",
    "    \n",
    "    percentage_change = calculate_percentage_change(total_impressions, previous_period_total_impressions)\n",
    "    if percentage_change < 0:\n",
    "        return ['Impressions ',html.Br(), html.B(\"{:,.0f}\".format(total_impressions), style= {'color':'black', 'font-size':'20px','font-family':'Arial Black' }), html.Br(),  html.P(f\"{percentage_change}%\", style= {'width':'100px','display': 'flex', 'align-items': 'center', 'justify-content': 'center',\n",
    "                  'background-color': 'white', 'margin-top': '20px', 'border-radius': '10px', 'margin-right': '20px', 'margin-left':'20px', 'font-size':'12px', 'color':'red',}) ]\n",
    "    elif percentage_change > 0:\n",
    "        return ['Impressions ',html.Br(), html.B(\"{:,.0f}\".format(total_impressions), style= {'color':'black', 'font-size':'20px','font-family':'Arial Black' }), html.Br(),  html.P(f\"{percentage_change}%\", style= {'width':'100px','display': 'flex', 'align-items': 'center', 'justify-content': 'center',\n",
    "            'background-color': 'white', 'margin-top': '20px', 'border-radius': '10px', 'margin-right': '20px', 'margin-left':'20px', 'font-size':'12px', 'color':'green'}) ]\n",
    "    else:\n",
    "        return ['Impressions ',html.Br(), html.B(\"{:,.0f}\".format(total_impressions), style= {'color':'black', 'font-size':'20px', 'margin-top':'40px', 'font-family':'Arial Black' }), html.Br(),  html.P('No change', style= {'width':'100px','display': 'flex', 'align-items': 'center', 'justify-content': 'center',\n",
    "            'background-color': 'lightgray', 'margin-top': '20px', 'border-radius': '10px', 'margin-right': '20px', 'margin-left':'20px', 'font-size':'12px',  'color':'green',}) ]\n",
    "    \n",
    "@app.callback(\n",
    "    Output('engagement_rate', 'children'),\n",
    "    [Input('date-picker-range', 'start_date'),\n",
    "     Input('date-picker-range', 'end_date')]\n",
    ") \n",
    "def update_engagements_rate(start_date, end_date):\n",
    "    filtered_impressions = engagements[(engagements['Date'] >= start_date) & (engagements['Date'] <= end_date)]\n",
    "    total_impressions = filtered_impressions['Impressions'].sum()\n",
    "    total_engagements = filtered_impressions['Engagements'].sum()\n",
    "    engagement_rate = (total_engagements / total_impressions)*100\n",
    "    return ['Engagement Rate', html.Br(), html.B(\"{:,.2f}%\".format(engagement_rate), style= {'color':'black', 'font-size':'20px', 'margin-top':'40px', 'font-family':'Arial Black' })]\n",
    "\n",
    "@app.callback(\n",
    "    Output('emv_value', 'children'),\n",
    "    [Input('date-picker-range', 'start_date'),\n",
    "     Input('date-picker-range', 'end_date')]\n",
    ")   \n",
    "def update_emv(start_date, end_date):\n",
    "    filtered_impressions = engagements[(engagements['Date'] >= start_date) & (engagements['Date'] <= end_date)]\n",
    "    total_impressions = filtered_impressions['Impressions'].sum()\n",
    "    total_engagements = filtered_impressions['Engagements'].sum()\n",
    "    engagement_rate = total_engagements / total_impressions\n",
    "    emv = engagement_rate*total_impressions*6.59\n",
    "    return ['Earned Media Value', html.Br(), html.B(\"${:,.0f}\".format(emv), style= {'color':'black', 'font-size':'20px', 'margin-top':'40px', 'font-family':'Arial Black' })]\n",
    "    \n",
    "\n",
    "@app.callback(\n",
    "    Output('engagements-graph', 'figure'),\n",
    "    [Input('date-picker-range', 'start_date'),\n",
    "     Input('date-picker-range', 'end_date'),\n",
    "     Input('variable-dropdown', 'value')]\n",
    ")\n",
    "def update_graph(start_date, end_date, selected_variable):\n",
    "    filtered_data = engagements[(engagements['Date'] >= start_date) & (engagements['Date'] <= end_date)]\n",
    "    fig = px.line(filtered_data, x='Date', y=selected_variable, color_discrete_sequence=['#b51a00'])\n",
    "    return fig\n",
    "\n",
    "@app.callback(\n",
    "    Output('optimal-graph', 'figure'),\n",
    "    Output('best-day', 'children'),\n",
    "    Output('optimal-days', 'children'),\n",
    "    [Input('date-picker-range', 'start_date'),\n",
    "     Input('date-picker-range', 'end_date'),\n",
    "     Input('variable-dropdown', 'value')]\n",
    ")\n",
    "def update_graph(start_date, end_date, selected_variable):\n",
    "    filtered_data = engagements[(engagements['Date'] >= start_date) & (engagements['Date'] <= end_date)]\n",
    "    filtered_data['DayOfWeek'] = filtered_data['Date'].dt.day_name()\n",
    "    engagements_by_day = filtered_data.groupby('DayOfWeek')[['Engagements','Impressions']].sum().reset_index()\n",
    "    engagements_by_day['EngagementRate'] = (engagements_by_day['Engagements'] / engagements_by_day['Impressions']) * 100\n",
    "    engagements_by_day['EngagementRate'] = engagements_by_day['EngagementRate'].map(\"{:.2f}\".format)\n",
    "    if selected_variable == 'Engagements':\n",
    "        engagements_by_day = engagements_by_day.sort_values(by='Engagements', ascending=False).reset_index(drop=True)\n",
    "        optimal_day = engagements_by_day.loc[0, 'DayOfWeek']\n",
    "        fig = px.pie(engagements_by_day, names='DayOfWeek', values=selected_variable, color_discrete_sequence=['#b51a00']).update_layout(plot_bgcolor='white')\n",
    "        return (fig, f\"Engagement\", [\"With a total of \", html.B(engagements_by_day.loc[0, 'Engagements']), \" reactions, the best day to post on LinkedIn to maximize your engagement is \", html.B(optimal_day), \". The second best day is \", html.B(engagements_by_day.loc[1, 'DayOfWeek'])])\n",
    "    elif selected_variable == 'Impressions':\n",
    "        engagements_by_day = engagements_by_day.sort_values(by='Impressions', ascending=False).reset_index(drop=True)\n",
    "        optimal_day = engagements_by_day.loc[0, 'DayOfWeek']\n",
    "        fig = px.histogram(engagements_by_day, x='DayOfWeek', y=selected_variable, color_discrete_sequence=['#b51a00']).update_layout(plot_bgcolor='white')\n",
    "        return (fig, f\"Reach\", [\"The best day to maximize the reach of your LinkedIn posts is \", html.B(optimal_day), \" with total of \", html.B(engagements_by_day.loc[0, 'Impressions']), \" impressions. The second best day is\", html.B(engagements_by_day.loc[1, 'DayOfWeek']), \".\"])\n",
    "    else:\n",
    "        engagements_by_day = engagements_by_day.sort_values(by='EngagementRate', ascending=False).reset_index(drop=True)\n",
    "        optimal_day = engagements_by_day.loc[0, 'DayOfWeek']\n",
    "        fig = px.histogram(engagements_by_day, x='DayOfWeek', y=selected_variable, color_discrete_sequence=['#b51a00']).update_layout(plot_bgcolor='white')\n",
    "        return (fig, f\"Engagement rate\", [ \"Increase your engagement rate on your LinkedIn posts by posting on \", html.B(optimal_day), \" with (\", html.B(engagements_by_day.loc[0, 'EngagementRate']), \"%) engagement rate.\"])\n",
    "\n",
    "@app.callback(\n",
    "    Output('audience-graph', 'figure'),\n",
    "    [Input('audience-dropdown', 'value')]\n",
    ")\n",
    "def update_audience_graph(selected_variable):\n",
    "    fig = px.bar(demographics[demographics['Top Demographics'] == selected_variable], x='Percentage', y='Value', orientation='h', title=f'Top audience by {selected_variable}', labels={'Percentage': 'Percentage (%)', 'Value': 'Top Values'},color_discrete_sequence=['#b51a00']).update_layout(plot_bgcolor='white')\n",
    "    return fig\n",
    "\n",
    "@app.callback(\n",
    "    Output('top-posts-preview', 'children'),\n",
    "    [Input('date-picker-range', 'start_date'),\n",
    "     Input('date-picker-range', 'end_date'),\n",
    "     Input('posts-dropdown', 'value')]\n",
    ")\n",
    "def update_top_posts(start_date, end_date, selected_variable):\n",
    "    filtered_data = top_posts_preview[(top_posts_preview['Post publish date'] >= start_date) & (top_posts_preview['Post publish date'] <= end_date)]\n",
    "    if selected_variable == 'Top engaging posts':\n",
    "        data = filtered_data.sort_values(by='Engagements', ascending=False).reset_index(drop=True).head()\n",
    "        return dbc.Table(id = 'top-posts-preview',\n",
    "            children=[\n",
    "                html.Tr([\n",
    "                    html.Th(\"Published on\"),\n",
    "                    html.Th(\"Posts\"),\n",
    "                    html.Th(\"\"),\n",
    "                    html.Th(\"Impressions\"),\n",
    "                    html.Th(\"Reactions\"),\n",
    "                    html.Th(\"Post Link\"),\n",
    "                    html.Th(\"Topics\"),\n",
    "                ], style={'background-color': 'lightgray'}),  # Header row styling\n",
    "            ] +\n",
    "            # Rows\n",
    "            [html.Tr([\n",
    "                html.Td(row['Post publish date'], style={'width':'200px', 'margin-left': '10px'}),\n",
    "                html.Td(html.Img(src=row['Thumbnail'], height=100) if row['Thumbnail'] else html.P('Thumbnail not found.')),\n",
    "                html.Td(row['Description'],style={'width':'800px', 'margin-left': '10px', 'margin-right': '40px'}),\n",
    "                html.Td(html.B(row['Impressions']), style={'width':'200px', 'margin-left': '20px'}),\n",
    "                html.Td(html.B(row['Engagements']),style={'width':'200px',}),\n",
    "                html.Td(html.A(\"View on LI\", href=row['Post URL']), style={'width':'200px',}),\n",
    "                html.Td(row['Topics'],style={'width':'300px',}),\n",
    "            ], style={'border-bottom': '1px solid gray', 'padding': '10px','width':'1700px'}) for _, row in data.iterrows()],\n",
    "            bordered=True,\n",
    "            responsive=True,\n",
    "            striped=True,\n",
    "            hover=True,\n",
    "            style={'margin': '20px', 'width': '1700px'}  # Overall table styling\n",
    "        )\n",
    "    else:\n",
    "        data = filtered_data.sort_values(by='Impressions', ascending=False).reset_index(drop=True).head(10)\n",
    "        return dbc.Table(id = 'top-posts-preview',\n",
    "            children=[\n",
    "                html.Tr([\n",
    "                    html.Th(\"Published on\"),\n",
    "                    html.Th(\"Posts\"),\n",
    "                    html.Th(\"\"),\n",
    "                    html.Th(\"Impressions\"),\n",
    "                    html.Th(\"Reactions\"),\n",
    "                    html.Th(\"Post Link\"),\n",
    "                    html.Th(\"Topics\"),\n",
    "                ], style={'background-color': 'lightgray'}),  # Header row styling\n",
    "            ] +\n",
    "            # Rows\n",
    "            [html.Tr([\n",
    "                html.Td(row['Post publish date'], style={'width':'200px', 'margin-left': '10px'}),\n",
    "                html.Td(html.Img(src=row['Thumbnail'], height=100) if row['Thumbnail'] else html.P('Thumbnail not found.')),\n",
    "                html.Td(row['Description'],style={'width':'800px', 'margin-left': '10px'}),\n",
    "                html.Td(html.B(row['Impressions']), style={'width':'200px', 'margin-left': '20px'}),\n",
    "                html.Td(html.B(row['Engagements']),style={'width':'200px',}),\n",
    "                html.Td(html.A(\"View on LI\", href=row['Post URL']), style={'width':'200px',}),\n",
    "                html.Td(row['Topics'],style={'width':'300px',}),\n",
    "            ], style={'border-bottom': '1px solid gray', 'padding': '10px','width':'1700px'}) for _, row in data.iterrows()],\n",
    "            bordered=True,\n",
    "            responsive=True,\n",
    "            striped=True,\n",
    "            hover=True,\n",
    "            style={'margin': '20px', 'width': '100%'}  # Overall table styling\n",
    "        )\n",
    "\n",
    "if __name__ == '__main__':\n",
    "    app.run_server(debug=True)\n"
   ]
  },
  {
   "cell_type": "code",
   "execution_count": null,
   "metadata": {},
   "outputs": [],
   "source": []
  }
 ],
 "metadata": {
  "kernelspec": {
   "display_name": "base",
   "language": "python",
   "name": "python3"
  },
  "language_info": {
   "codemirror_mode": {
    "name": "ipython",
    "version": 3
   },
   "file_extension": ".py",
   "mimetype": "text/x-python",
   "name": "python",
   "nbconvert_exporter": "python",
   "pygments_lexer": "ipython3",
   "version": "3.12.3"
  }
 },
 "nbformat": 4,
 "nbformat_minor": 2
}
